{
 "cells": [
  {
   "cell_type": "markdown",
   "id": "c0172da2",
   "metadata": {},
   "source": [
    "# Assignment 1\n",
    "Emma McCready\\\n",
    "sba23001\n",
    "\n",
    "---\n",
    "\n",
    "### Analysis of Ireland's Transport Data\n",
    "\n",
    "\n",
    "\n",
    "\n",
    "^ implement a project overview/plan like how they do in codecademy projects??"
   ]
  },
  {
   "cell_type": "markdown",
   "id": "3fcfd636",
   "metadata": {},
   "source": [
    "## Scoping\n",
    "\n",
    "The below four sections are to help guide the EDA during this project and also to structure this codebook as it may get quite long. The first section defines the high-level objectives and set the intentions for the overall project. The next section is the data. Thirdly, the analysis will have to be thought through, which include the methods and questions that are aligned with the project goals. Lastly, evaluation will help us build conclusions and findings from our analysis.\n",
    "\n",
    "### Project Goals\n",
    "\n",
    "An aspect of Ireland's Transport data will be analysed and compared to other transport systems in other countries. The focus will be on train systems. Some questions that are posed:\n",
    "\n",
    "- \n",
    "\n",
    "### Data\n",
    "\n",
    "Dataset sources:\n",
    "* link..\n",
    "* link 2...\n",
    "\n",
    "Data will be cleaned and prepared prior to analysis.\n",
    "\n",
    "### Analysis\n",
    "\n",
    "In this section, descriptive statistics and data visualization techniques will be employed to understand the data better. \n",
    "The datasets were not viewed before the initiation of this project and may be quite large.\n",
    "\n",
    "### Evaluation\n",
    "\n",
    "Lastly, it's a good idea to revisit the goals and check if the output of the analysis corresponds to the questions first set to be answered (in the goals section). This section will also reflect on what has been learned through the process, and if any of the questions were unable to be answered. This could also include limitations or if any of the analysis could have been done using different methodologies.\n"
   ]
  },
  {
   "cell_type": "code",
   "execution_count": 2,
   "id": "a18a16ed",
   "metadata": {},
   "outputs": [],
   "source": [
    "# Dependencies.. put any packages I install here:\n",
    "#!pip install pandas==2.1.2\n",
    "#!pip install ydata_profiling --user"
   ]
  },
  {
   "cell_type": "code",
   "execution_count": 4,
   "id": "4070b801",
   "metadata": {},
   "outputs": [],
   "source": [
    "# review this at end to ensure there's no unnecessary packages loaded\n",
    "\n",
    "import pandas as pd\n",
    "import numpy as np\n",
    "from scipy import stats\n",
    "import seaborn as sns\n",
    "import matplotlib.pyplot as plt\n",
    "import warnings\n",
    "warnings.filterwarnings('ignore') \n",
    "from scipy.stats import norm\n",
    "from scipy.stats import poisson, binom, norm\n",
    "from scipy.stats import shapiro\n",
    "\n",
    "# ML libraries\n",
    "from sklearn.metrics import r2_score, mean_squared_error, mean_absolute_error,explained_variance_score\n",
    "from sklearn.model_selection import (GridSearchCV, cross_val_score, cross_val_predict, \n",
    "                                     StratifiedKFold, learning_curve, train_test_split)\n",
    "from sklearn.linear_model import LinearRegression, Ridge, Lasso\n",
    "from statsmodels.tools.eval_measures import mse, rmse\n",
    "from sklearn import preprocessing\n",
    "from sklearn.preprocessing import StandardScaler, MinMaxScaler\n",
    "from sklearn.ensemble import RandomForestRegressor"
   ]
  },
  {
   "cell_type": "markdown",
   "id": "c110e4cf",
   "metadata": {},
   "source": [
    "<summary style=\"color:blue;\">\n",
    "\n",
    "# 1. Data Inspection of the Primary Dataset\n",
    "\n",
    "This dataset was obtained from the CSO, and pertains to rail transport activity within the Republic of Ireland and rail transport activity where a journey begins or ends in the Republic of Ireland.\n",
    "    \n",
    "First, I need to load in the data, and then take a quick look at the data to get a sense of what I'm dealing with. I'm initially interested in what unique columns there are, the data types of the columns,"
   ]
  },
  {
   "cell_type": "code",
   "execution_count": 39,
   "id": "fa4d8bbf",
   "metadata": {},
   "outputs": [
    {
     "data": {
      "text/html": [
       "<div>\n",
       "<style scoped>\n",
       "    .dataframe tbody tr th:only-of-type {\n",
       "        vertical-align: middle;\n",
       "    }\n",
       "\n",
       "    .dataframe tbody tr th {\n",
       "        vertical-align: top;\n",
       "    }\n",
       "\n",
       "    .dataframe thead th {\n",
       "        text-align: right;\n",
       "    }\n",
       "</style>\n",
       "<table border=\"1\" class=\"dataframe\">\n",
       "  <thead>\n",
       "    <tr style=\"text-align: right;\">\n",
       "      <th></th>\n",
       "      <th>STATISTIC</th>\n",
       "      <th>STATISTIC Label</th>\n",
       "      <th>TLIST(A1)</th>\n",
       "      <th>Year</th>\n",
       "      <th>C02617V03175</th>\n",
       "      <th>Type of Journey</th>\n",
       "      <th>UNIT</th>\n",
       "      <th>VALUE</th>\n",
       "    </tr>\n",
       "  </thead>\n",
       "  <tbody>\n",
       "    <tr>\n",
       "      <th>0</th>\n",
       "      <td>TCA01</td>\n",
       "      <td>Passenger Journeys by Rail (Thousand)</td>\n",
       "      <td>1981</td>\n",
       "      <td>1981</td>\n",
       "      <td>-</td>\n",
       "      <td>All journeys</td>\n",
       "      <td>Number</td>\n",
       "      <td>15374.0</td>\n",
       "    </tr>\n",
       "    <tr>\n",
       "      <th>1</th>\n",
       "      <td>TCA01</td>\n",
       "      <td>Passenger Journeys by Rail (Thousand)</td>\n",
       "      <td>1981</td>\n",
       "      <td>1981</td>\n",
       "      <td>01</td>\n",
       "      <td>Mainline and other services</td>\n",
       "      <td>Number</td>\n",
       "      <td>7379.0</td>\n",
       "    </tr>\n",
       "    <tr>\n",
       "      <th>2</th>\n",
       "      <td>TCA01</td>\n",
       "      <td>Passenger Journeys by Rail (Thousand)</td>\n",
       "      <td>1981</td>\n",
       "      <td>1981</td>\n",
       "      <td>02</td>\n",
       "      <td>Dublin suburban services</td>\n",
       "      <td>Number</td>\n",
       "      <td>7995.0</td>\n",
       "    </tr>\n",
       "    <tr>\n",
       "      <th>3</th>\n",
       "      <td>TCA01</td>\n",
       "      <td>Passenger Journeys by Rail (Thousand)</td>\n",
       "      <td>1981</td>\n",
       "      <td>1981</td>\n",
       "      <td>03</td>\n",
       "      <td>DART</td>\n",
       "      <td>Number</td>\n",
       "      <td>NaN</td>\n",
       "    </tr>\n",
       "    <tr>\n",
       "      <th>4</th>\n",
       "      <td>TCA01</td>\n",
       "      <td>Passenger Journeys by Rail (Thousand)</td>\n",
       "      <td>1981</td>\n",
       "      <td>1981</td>\n",
       "      <td>04</td>\n",
       "      <td>International journeys</td>\n",
       "      <td>Number</td>\n",
       "      <td>NaN</td>\n",
       "    </tr>\n",
       "    <tr>\n",
       "      <th>5</th>\n",
       "      <td>TCA01</td>\n",
       "      <td>Passenger Journeys by Rail (Thousand)</td>\n",
       "      <td>1982</td>\n",
       "      <td>1982</td>\n",
       "      <td>-</td>\n",
       "      <td>All journeys</td>\n",
       "      <td>Number</td>\n",
       "      <td>12813.0</td>\n",
       "    </tr>\n",
       "    <tr>\n",
       "      <th>6</th>\n",
       "      <td>TCA01</td>\n",
       "      <td>Passenger Journeys by Rail (Thousand)</td>\n",
       "      <td>1982</td>\n",
       "      <td>1982</td>\n",
       "      <td>01</td>\n",
       "      <td>Mainline and other services</td>\n",
       "      <td>Number</td>\n",
       "      <td>6677.0</td>\n",
       "    </tr>\n",
       "    <tr>\n",
       "      <th>7</th>\n",
       "      <td>TCA01</td>\n",
       "      <td>Passenger Journeys by Rail (Thousand)</td>\n",
       "      <td>1982</td>\n",
       "      <td>1982</td>\n",
       "      <td>02</td>\n",
       "      <td>Dublin suburban services</td>\n",
       "      <td>Number</td>\n",
       "      <td>6136.0</td>\n",
       "    </tr>\n",
       "    <tr>\n",
       "      <th>8</th>\n",
       "      <td>TCA01</td>\n",
       "      <td>Passenger Journeys by Rail (Thousand)</td>\n",
       "      <td>1982</td>\n",
       "      <td>1982</td>\n",
       "      <td>03</td>\n",
       "      <td>DART</td>\n",
       "      <td>Number</td>\n",
       "      <td>NaN</td>\n",
       "    </tr>\n",
       "    <tr>\n",
       "      <th>9</th>\n",
       "      <td>TCA01</td>\n",
       "      <td>Passenger Journeys by Rail (Thousand)</td>\n",
       "      <td>1982</td>\n",
       "      <td>1982</td>\n",
       "      <td>04</td>\n",
       "      <td>International journeys</td>\n",
       "      <td>Number</td>\n",
       "      <td>NaN</td>\n",
       "    </tr>\n",
       "  </tbody>\n",
       "</table>\n",
       "</div>"
      ],
      "text/plain": [
       "  STATISTIC                        STATISTIC Label  TLIST(A1)  Year  \\\n",
       "0     TCA01  Passenger Journeys by Rail (Thousand)       1981  1981   \n",
       "1     TCA01  Passenger Journeys by Rail (Thousand)       1981  1981   \n",
       "2     TCA01  Passenger Journeys by Rail (Thousand)       1981  1981   \n",
       "3     TCA01  Passenger Journeys by Rail (Thousand)       1981  1981   \n",
       "4     TCA01  Passenger Journeys by Rail (Thousand)       1981  1981   \n",
       "5     TCA01  Passenger Journeys by Rail (Thousand)       1982  1982   \n",
       "6     TCA01  Passenger Journeys by Rail (Thousand)       1982  1982   \n",
       "7     TCA01  Passenger Journeys by Rail (Thousand)       1982  1982   \n",
       "8     TCA01  Passenger Journeys by Rail (Thousand)       1982  1982   \n",
       "9     TCA01  Passenger Journeys by Rail (Thousand)       1982  1982   \n",
       "\n",
       "  C02617V03175              Type of Journey    UNIT    VALUE  \n",
       "0            -                 All journeys  Number  15374.0  \n",
       "1           01  Mainline and other services  Number   7379.0  \n",
       "2           02     Dublin suburban services  Number   7995.0  \n",
       "3           03                         DART  Number      NaN  \n",
       "4           04       International journeys  Number      NaN  \n",
       "5            -                 All journeys  Number  12813.0  \n",
       "6           01  Mainline and other services  Number   6677.0  \n",
       "7           02     Dublin suburban services  Number   6136.0  \n",
       "8           03                         DART  Number      NaN  \n",
       "9           04       International journeys  Number      NaN  "
      ]
     },
     "execution_count": 39,
     "metadata": {},
     "output_type": "execute_result"
    }
   ],
   "source": [
    "df1 = pd.read_csv(\"TCA01.csv\")\n",
    "df1.head(10)\n",
    "#pop_data.tail()"
   ]
  },
  {
   "cell_type": "code",
   "execution_count": 7,
   "id": "ec1ec2b3",
   "metadata": {
    "scrolled": false
   },
   "outputs": [
    {
     "name": "stdout",
     "output_type": "stream",
     "text": [
      "<class 'pandas.core.frame.DataFrame'>\n",
      "RangeIndex: 210 entries, 0 to 209\n",
      "Data columns (total 8 columns):\n",
      " #   Column           Non-Null Count  Dtype  \n",
      "---  ------           --------------  -----  \n",
      " 0   STATISTIC        210 non-null    object \n",
      " 1   STATISTIC Label  210 non-null    object \n",
      " 2   TLIST(A1)        210 non-null    int64  \n",
      " 3   Year             210 non-null    int64  \n",
      " 4   C02617V03175     210 non-null    object \n",
      " 5   Type of Journey  210 non-null    object \n",
      " 6   UNIT             210 non-null    object \n",
      " 7   VALUE            165 non-null    float64\n",
      "dtypes: float64(1), int64(2), object(5)\n",
      "memory usage: 13.3+ KB\n"
     ]
    }
   ],
   "source": [
    "df1.info()"
   ]
  },
  {
   "cell_type": "code",
   "execution_count": 10,
   "id": "4f0ce5ca",
   "metadata": {},
   "outputs": [
    {
     "data": {
      "text/html": [
       "<div>\n",
       "<style scoped>\n",
       "    .dataframe tbody tr th:only-of-type {\n",
       "        vertical-align: middle;\n",
       "    }\n",
       "\n",
       "    .dataframe tbody tr th {\n",
       "        vertical-align: top;\n",
       "    }\n",
       "\n",
       "    .dataframe thead th {\n",
       "        text-align: right;\n",
       "    }\n",
       "</style>\n",
       "<table border=\"1\" class=\"dataframe\">\n",
       "  <thead>\n",
       "    <tr style=\"text-align: right;\">\n",
       "      <th></th>\n",
       "      <th>STATISTIC</th>\n",
       "      <th>STATISTIC Label</th>\n",
       "      <th>C02617V03175</th>\n",
       "      <th>Type of Journey</th>\n",
       "      <th>UNIT</th>\n",
       "    </tr>\n",
       "  </thead>\n",
       "  <tbody>\n",
       "    <tr>\n",
       "      <th>count</th>\n",
       "      <td>210</td>\n",
       "      <td>210</td>\n",
       "      <td>210</td>\n",
       "      <td>210</td>\n",
       "      <td>210</td>\n",
       "    </tr>\n",
       "    <tr>\n",
       "      <th>unique</th>\n",
       "      <td>1</td>\n",
       "      <td>1</td>\n",
       "      <td>5</td>\n",
       "      <td>5</td>\n",
       "      <td>1</td>\n",
       "    </tr>\n",
       "    <tr>\n",
       "      <th>top</th>\n",
       "      <td>TCA01</td>\n",
       "      <td>Passenger Journeys by Rail (Thousand)</td>\n",
       "      <td>-</td>\n",
       "      <td>All journeys</td>\n",
       "      <td>Number</td>\n",
       "    </tr>\n",
       "    <tr>\n",
       "      <th>freq</th>\n",
       "      <td>210</td>\n",
       "      <td>210</td>\n",
       "      <td>42</td>\n",
       "      <td>42</td>\n",
       "      <td>210</td>\n",
       "    </tr>\n",
       "  </tbody>\n",
       "</table>\n",
       "</div>"
      ],
      "text/plain": [
       "       STATISTIC                        STATISTIC Label C02617V03175  \\\n",
       "count        210                                    210          210   \n",
       "unique         1                                      1            5   \n",
       "top        TCA01  Passenger Journeys by Rail (Thousand)            -   \n",
       "freq         210                                    210           42   \n",
       "\n",
       "       Type of Journey    UNIT  \n",
       "count              210     210  \n",
       "unique               5       1  \n",
       "top       All journeys  Number  \n",
       "freq                42     210  "
      ]
     },
     "execution_count": 10,
     "metadata": {},
     "output_type": "execute_result"
    }
   ],
   "source": [
    "#df1.describe()\n",
    "df1.describe(include=object)"
   ]
  },
  {
   "cell_type": "code",
   "execution_count": 8,
   "id": "32752f04",
   "metadata": {
    "scrolled": false
   },
   "outputs": [
    {
     "data": {
      "text/plain": [
       "STATISTIC           0\n",
       "STATISTIC Label     0\n",
       "TLIST(A1)           0\n",
       "Year                0\n",
       "C02617V03175        0\n",
       "Type of Journey     0\n",
       "UNIT                0\n",
       "VALUE              45\n",
       "dtype: int64"
      ]
     },
     "execution_count": 8,
     "metadata": {},
     "output_type": "execute_result"
    }
   ],
   "source": [
    "#checking amount of missing data..\n",
    "df1.isnull().sum()"
   ]
  },
  {
   "cell_type": "code",
   "execution_count": 11,
   "id": "562bf4ff",
   "metadata": {},
   "outputs": [
    {
     "name": "stdout",
     "output_type": "stream",
     "text": [
      "False    210\n",
      "dtype: int64\n"
     ]
    }
   ],
   "source": [
    "duplicates = df1.duplicated()\n",
    "print(duplicates.value_counts())"
   ]
  },
  {
   "cell_type": "code",
   "execution_count": 17,
   "id": "358fc24d",
   "metadata": {},
   "outputs": [
    {
     "data": {
      "text/plain": [
       "True"
      ]
     },
     "execution_count": 17,
     "metadata": {},
     "output_type": "execute_result"
    }
   ],
   "source": [
    "df1[\"TLIST(A1)\"].equals(df1[\"Year\"])"
   ]
  },
  {
   "cell_type": "markdown",
   "id": "f65857b9",
   "metadata": {},
   "source": [
    "### Observations on the above:\n",
    "\n",
    "**From calling `.head()`:**\n",
    "* STATISTIC and STATISTIC Label columns redundant. UNIT also irrelevant. VALUE column refers to the number of passender journeys by rail in thousands.\n",
    "* Not sure what TLIST(A1) is, possibly an error from when the data was downloaded from the CSO website? Will have to check if the columns are equal and if so drop one of the columns.\n",
    "* Similarly, not sure what C02617V03175 refers to - will have to check values. From looking at .head(10), it might just be an index key for the Type of Journey values?\n",
    "\n",
    "\n",
    "**From calling `.info()`:**\n",
    "* Dataset contains 210 observations\n",
    "* The statistical information extracted (ie. the mean, std, etc.) isn't reliable at this early stage, as there's a total variable also ('All journeys')\n",
    "\n",
    "\n",
    "**From calling `.describe()`:**\n",
    "* For the numerical features:\n",
    "    * Year column: ranges from 1981 to 2022.\n",
    "    * Missing values in VALUE column.. will need to investigate and decide what to do with them.\n",
    "* For the categorical features:\n",
    "    * \"STATISTIC Label\" and \"UNIT\" only have one unique value each (\"Passenger Journeys by Rail (Thousand)\" and \"number\" respectively)\n",
    "    * \"C02617V03175\" and \"Type of Journey\" both have 5 unique values - this reinforces my assumption that C02617V03175 is a sort of key for the latter feature. This will need to be confirmed.\n",
    "\n",
    "\n",
    "**From calling `.isnull().sum()`:**\n",
    "* 45 missing values in the VALUE field. Will need to investigate and figure out why these are missing. 45 is significant as dataset contains only 210 observations - this means 21.4% of the observations contain missing values.\n",
    "\n",
    "\n",
    "**From calling `duplicates.value_counts()`:**\n",
    "* There are no duplicated observations.\n",
    "\n",
    "**From calling `df1[\"TLIST(A1)\"].equals(df1[\"Year\"])`:**\n",
    "* Output is true, implying these columns are the exact same, and one of these columns can be dropped.\n",
    "\n"
   ]
  },
  {
   "cell_type": "markdown",
   "id": "ded4dbdc",
   "metadata": {},
   "source": [
    "One of the labels under the \"Type of Journey\" feature is \"International journeys\". Noting that Ireland is an island with no linking tunnels, I'd like to get a closer look at this. In doing this, I'll confirm that \"C02617V03175\" is just an index key (and can therefore be dropped to tidy the dataset), and filter both \"Type of Journey\" and \"C02617V03175\" for the relevant variable:"
   ]
  },
  {
   "cell_type": "code",
   "execution_count": 31,
   "id": "692372be",
   "metadata": {},
   "outputs": [
    {
     "data": {
      "text/plain": [
       "True"
      ]
     },
     "execution_count": 31,
     "metadata": {},
     "output_type": "execute_result"
    }
   ],
   "source": [
    "int_journeys1 = df1[df1[\"Type of Journey\"] == \"International journeys\"]\n",
    "int_journeys2 = df1[df1[\"C02617V03175\"] == \"04\"]\n",
    "#int_journeys1.info()\n",
    "#int_journeys2.info()\n",
    "int_journeys1.equals(int_journeys2)"
   ]
  },
  {
   "cell_type": "code",
   "execution_count": 37,
   "id": "fd45c8e1",
   "metadata": {},
   "outputs": [
    {
     "name": "stdout",
     "output_type": "stream",
     "text": [
      "<class 'pandas.core.frame.DataFrame'>\n",
      "Int64Index: 42 entries, 4 to 209\n",
      "Data columns (total 5 columns):\n",
      " #   Column           Non-Null Count  Dtype  \n",
      "---  ------           --------------  -----  \n",
      " 0   STATISTIC        42 non-null     object \n",
      " 1   Year             42 non-null     int64  \n",
      " 2   C02617V03175     42 non-null     object \n",
      " 3   Type of Journey  42 non-null     object \n",
      " 4   VALUE            21 non-null     float64\n",
      "dtypes: float64(1), int64(1), object(3)\n",
      "memory usage: 2.0+ KB\n"
     ]
    }
   ],
   "source": [
    "int_journeys1.info()"
   ]
  },
  {
   "cell_type": "markdown",
   "id": "c911f093",
   "metadata": {},
   "source": [
    "This confirms that \"C02617V03175\" is an index key, and can therefore be dropped. \n",
    "From calling .info(), I can see that there are 21 non-null values, and therefore some international journeys taking place. From my own knowledge of the Irish Rail system, I can assume that this is the Dublin -> Belfast route, but there's no information in the current dataset which can confirm this."
   ]
  },
  {
   "cell_type": "code",
   "execution_count": 33,
   "id": "f4987b05",
   "metadata": {
    "scrolled": true
   },
   "outputs": [
    {
     "data": {
      "text/plain": [
       "STATISTIC           0\n",
       "Year                0\n",
       "C02617V03175        0\n",
       "Type of Journey     0\n",
       "VALUE              21\n",
       "dtype: int64"
      ]
     },
     "execution_count": 33,
     "metadata": {},
     "output_type": "execute_result"
    }
   ],
   "source": [
    "int_journeys1.isnull().sum()"
   ]
  },
  {
   "cell_type": "markdown",
   "id": "30bbfd4c",
   "metadata": {},
   "source": [
    "<summary style=\"color:blue;\">\n",
    "\n",
    "# 2. Data Tidying\n"
   ]
  },
  {
   "cell_type": "markdown",
   "id": "24c3653a",
   "metadata": {},
   "source": [
    "<summary style=\"color:blue;\">\n",
    "\n",
    "###### 2.1 Dropping \"Statistic Label\", \"TLIST(A1)\", \"C02617V03175\" and \"UNIT\" columns \n",
    "    \n",
    "</summary>\n",
    "\n",
    "\n",
    "I was planning on removing the \"Statistic Label\" as I felt it's providing no purpose in the analysis. However, I redecided to keep it as it contains important information which may be forgotten in the future (that the VALUEs for each observation are in thousands)\n",
    "    \n",
    "    \n",
    "I'm also removing the \"UNIT\" column, as I would rather include this in the \"VALUE\" column (by multiplying the values by a thousand)\n",
    "\n",
    "As noted above, \"TLIST(A1)\" is a duplication of the \"Year\" column, and so should be dropped. Further, \"C02617V03175\" can be dropped as it is just an index key, and I'd rather work with the strings in the \"Type of Journey\" column which are a full description of the type of journey. \n",
    "    \n",
    "    \n",
    "Doing this should make the dataframe less clunky and easier to explore\n",
    "\n",
    "However, I will keep the \"Statistic\" column as this could be a useful reference when I merge data to this dataset in the future."
   ]
  },
  {
   "cell_type": "code",
   "execution_count": 40,
   "id": "95aecdcc",
   "metadata": {},
   "outputs": [],
   "source": [
    "df1 = df1.drop(columns = ['TLIST(A1)', 'C02617V03175', 'UNIT'])\n",
    "#df1.head()"
   ]
  },
  {
   "cell_type": "markdown",
   "id": "d9dc2817",
   "metadata": {},
   "source": [
    "<summary style=\"color:blue;\">\n",
    "\n",
    "###### 2.2 Renaming the column headings\n",
    "    \n",
    "</summary>\n",
    "    \n",
    "This is just to make it easier to write code, and also to make headings reflect the data their respective column contains more accurately. I also want to make them all lowercase so it's more convenient to type. I won't touch the STATISTIC column heading as it's unlikely I'll be utilising it."
   ]
  },
  {
   "cell_type": "code",
   "execution_count": 43,
   "id": "07e51567",
   "metadata": {},
   "outputs": [
    {
     "data": {
      "text/html": [
       "<div>\n",
       "<style scoped>\n",
       "    .dataframe tbody tr th:only-of-type {\n",
       "        vertical-align: middle;\n",
       "    }\n",
       "\n",
       "    .dataframe tbody tr th {\n",
       "        vertical-align: top;\n",
       "    }\n",
       "\n",
       "    .dataframe thead th {\n",
       "        text-align: right;\n",
       "    }\n",
       "</style>\n",
       "<table border=\"1\" class=\"dataframe\">\n",
       "  <thead>\n",
       "    <tr style=\"text-align: right;\">\n",
       "      <th></th>\n",
       "      <th>STATISTIC</th>\n",
       "      <th>year</th>\n",
       "      <th>journey_type</th>\n",
       "      <th>passenger_count</th>\n",
       "    </tr>\n",
       "  </thead>\n",
       "  <tbody>\n",
       "    <tr>\n",
       "      <th>0</th>\n",
       "      <td>TCA01</td>\n",
       "      <td>1981</td>\n",
       "      <td>All journeys</td>\n",
       "      <td>15374.0</td>\n",
       "    </tr>\n",
       "    <tr>\n",
       "      <th>1</th>\n",
       "      <td>TCA01</td>\n",
       "      <td>1981</td>\n",
       "      <td>Mainline and other services</td>\n",
       "      <td>7379.0</td>\n",
       "    </tr>\n",
       "    <tr>\n",
       "      <th>2</th>\n",
       "      <td>TCA01</td>\n",
       "      <td>1981</td>\n",
       "      <td>Dublin suburban services</td>\n",
       "      <td>7995.0</td>\n",
       "    </tr>\n",
       "    <tr>\n",
       "      <th>3</th>\n",
       "      <td>TCA01</td>\n",
       "      <td>1981</td>\n",
       "      <td>DART</td>\n",
       "      <td>NaN</td>\n",
       "    </tr>\n",
       "    <tr>\n",
       "      <th>4</th>\n",
       "      <td>TCA01</td>\n",
       "      <td>1981</td>\n",
       "      <td>International journeys</td>\n",
       "      <td>NaN</td>\n",
       "    </tr>\n",
       "  </tbody>\n",
       "</table>\n",
       "</div>"
      ],
      "text/plain": [
       "  STATISTIC  year                 journey_type  passenger_count\n",
       "0     TCA01  1981                 All journeys          15374.0\n",
       "1     TCA01  1981  Mainline and other services           7379.0\n",
       "2     TCA01  1981     Dublin suburban services           7995.0\n",
       "3     TCA01  1981                         DART              NaN\n",
       "4     TCA01  1981       International journeys              NaN"
      ]
     },
     "execution_count": 43,
     "metadata": {},
     "output_type": "execute_result"
    }
   ],
   "source": [
    "df1.head()"
   ]
  },
  {
   "cell_type": "code",
   "execution_count": 42,
   "id": "b24c1adb",
   "metadata": {},
   "outputs": [
    {
     "data": {
      "text/plain": [
       "Index(['STATISTIC', 'year', 'journey_type', 'passenger_count'], dtype='object')"
      ]
     },
     "execution_count": 42,
     "metadata": {},
     "output_type": "execute_result"
    }
   ],
   "source": [
    "df1 = df1.rename(columns = {'Year':'year', \n",
    "                            'Type of Journey':'journey_type',\n",
    "                            'VALUE':'passenger_count'})\n",
    "df1.columns"
   ]
  },
  {
   "cell_type": "markdown",
   "id": "fc9d4f4c",
   "metadata": {},
   "source": [
    "<summary style=\"color:blue;\">\n",
    "\n",
    "###### 2.3 Missing Values\n",
    "    \n",
    "</summary>\n",
    "\n",
    "First, I want to look at the missing values, so I'll move them into a new dataset. I'm particularly interested in what values are actually missing. Also interested in what year the missing data is, so I can decide if limiting the analysis to a particular year range is better. As noted from calling .info() on the dataset earlier, only \"passenger_count\" contains missing values, so I can streamline the code a little:\n",
    "    "
   ]
  },
  {
   "cell_type": "code",
   "execution_count": 56,
   "id": "c59f7545",
   "metadata": {},
   "outputs": [
    {
     "name": "stdout",
     "output_type": "stream",
     "text": [
      "There are 45 missing values in the total_migration column. The total percentage of missing values is 21.43 %\n"
     ]
    }
   ],
   "source": [
    "missing_count = df1['passenger_count'].isnull().sum()\n",
    "\n",
    "print('There are', missing_count, 'missing values in the total_migration column. The total percentage of missing values is', round((missing_count/len(df1) * 100), 2), '%')\n",
    "\n",
    "missing = pd.isnull(df1['passenger_count'])\n",
    "missing_data = df1[missing]\n",
    "#missing_data"
   ]
  },
  {
   "cell_type": "markdown",
   "id": "fbce5784",
   "metadata": {},
   "source": [
    "## Summary of the data tidying:\n",
    "\n",
    "I dropped the irrelevant columns but kept \"Statistic label\" to remember that `passenger_count` is in thousands\n",
    "\n"
   ]
  },
  {
   "cell_type": "code",
   "execution_count": null,
   "id": "86df7f71",
   "metadata": {},
   "outputs": [],
   "source": []
  },
  {
   "cell_type": "code",
   "execution_count": null,
   "id": "9210ed32",
   "metadata": {},
   "outputs": [],
   "source": []
  },
  {
   "cell_type": "code",
   "execution_count": null,
   "id": "43443abc",
   "metadata": {},
   "outputs": [],
   "source": []
  },
  {
   "cell_type": "code",
   "execution_count": null,
   "id": "73ca6f72",
   "metadata": {},
   "outputs": [],
   "source": []
  },
  {
   "cell_type": "code",
   "execution_count": null,
   "id": "0d54c66d",
   "metadata": {},
   "outputs": [],
   "source": []
  },
  {
   "cell_type": "code",
   "execution_count": null,
   "id": "fbb2606d",
   "metadata": {},
   "outputs": [],
   "source": []
  },
  {
   "cell_type": "code",
   "execution_count": null,
   "id": "df4daa3f",
   "metadata": {},
   "outputs": [],
   "source": []
  },
  {
   "cell_type": "code",
   "execution_count": null,
   "id": "30a0955a",
   "metadata": {},
   "outputs": [],
   "source": []
  },
  {
   "cell_type": "code",
   "execution_count": null,
   "id": "2f9974b9",
   "metadata": {},
   "outputs": [],
   "source": []
  }
 ],
 "metadata": {
  "kernelspec": {
   "display_name": "Python 3 (ipykernel)",
   "language": "python",
   "name": "python3"
  },
  "language_info": {
   "codemirror_mode": {
    "name": "ipython",
    "version": 3
   },
   "file_extension": ".py",
   "mimetype": "text/x-python",
   "name": "python",
   "nbconvert_exporter": "python",
   "pygments_lexer": "ipython3",
   "version": "3.11.4"
  }
 },
 "nbformat": 4,
 "nbformat_minor": 5
}
