{
 "cells": [
  {
   "cell_type": "markdown",
   "id": "c0172da2",
   "metadata": {},
   "source": [
    "# Assignment 1\n",
    "Emma McCready\\\n",
    "sba23001\n",
    "\n",
    "---\n",
    "\n",
    "### Analysis of Ireland's Transport Data\n",
    "\n",
    "\n",
    "\n",
    "\n",
    "^ implement a project overview/plan like how they do in codecademy projects??"
   ]
  },
  {
   "cell_type": "markdown",
   "id": "3fcfd636",
   "metadata": {},
   "source": [
    "## Scoping\n",
    "\n",
    "The below four sections are to help guide the EDA during this project and also to structure this codebook as it may get quite long. The first section defines the high-level objectives and set the intentions for the overall project. The next section is the data. Thirdly, the analysis will have to be thought through, which include the methods and questions that are aligned with the project goals. Lastly, evaluation will help us build conclusions and findings from our analysis.\n",
    "\n",
    "### Project Goals\n",
    "\n",
    "An aspect of Ireland's Transport data will be analysed and compared to other transport systems in other countries. The focus will be on train systems. Some questions that are posed:\n",
    "\n",
    "- \n",
    "\n",
    "### Data\n",
    "\n",
    "Sources:\n",
    "* **Primary dataset**: Iarnród Éireann, code TCA01, available here: <a href=\"https://data.gov.ie/dataset/tca01-passenger-journeys-by-rail-thousand\">link</a>\n",
    "* **Supplementary dataset**: Iarnród Éireann, code TOA21, available here: <a href=\"https://data.gov.ie/dataset/toa21-rail-infrastructure\">link</a>\n",
    "\n",
    "Data will be cleaned and prepared prior to analysis.\n",
    "\n",
    "### Analysis\n",
    "\n",
    "In this section, descriptive statistics and data visualization techniques will be employed to understand the data better. \n",
    "The datasets were not viewed before the initiation of this project and may be quite large.\n",
    "\n",
    "### Evaluation\n",
    "\n",
    "Lastly, it's a good idea to revisit the goals and check if the output of the analysis corresponds to the questions first set to be answered (in the goals section). This section will also reflect on what has been learned through the process, and if any of the questions were unable to be answered. This could also include limitations or if any of the analysis could have been done using different methodologies.\n"
   ]
  },
  {
   "cell_type": "code",
   "execution_count": 1,
   "id": "a18a16ed",
   "metadata": {},
   "outputs": [],
   "source": [
    "# Dependencies.. put any packages I install here:\n",
    "#!pip install pandas==2.1.2\n",
    "#!pip install ydata_profiling --user"
   ]
  },
  {
   "cell_type": "code",
   "execution_count": 2,
   "id": "4070b801",
   "metadata": {},
   "outputs": [],
   "source": [
    "# review this at end to ensure there's no unnecessary packages loaded\n",
    "\n",
    "import pandas as pd\n",
    "import numpy as np\n",
    "from scipy import stats\n",
    "import seaborn as sns\n",
    "import matplotlib.pyplot as plt\n",
    "import warnings\n",
    "warnings.filterwarnings('ignore') \n",
    "from scipy.stats import norm\n",
    "from scipy.stats import poisson, binom, norm\n",
    "from scipy.stats import shapiro\n",
    "\n",
    "# ML libraries\n",
    "from sklearn.metrics import r2_score, mean_squared_error, mean_absolute_error,explained_variance_score\n",
    "from sklearn.model_selection import (GridSearchCV, cross_val_score, cross_val_predict, \n",
    "                                     StratifiedKFold, learning_curve, train_test_split)\n",
    "from sklearn.linear_model import LinearRegression, Ridge, Lasso\n",
    "from statsmodels.tools.eval_measures import mse, rmse\n",
    "from sklearn import preprocessing\n",
    "from sklearn.preprocessing import StandardScaler, MinMaxScaler\n",
    "from sklearn.ensemble import RandomForestRegressor"
   ]
  },
  {
   "cell_type": "markdown",
   "id": "c110e4cf",
   "metadata": {},
   "source": [
    "<summary style=\"color:blue;\">\n",
    "\n",
    "# 1. Data Inspection of the Primary Dataset\n",
    "\n",
    "This dataset was obtained from the CSO, and pertains to rail transport activity within the Republic of Ireland and rail transport activity where a journey begins or ends in the Republic of Ireland.\n",
    "    \n",
    "First, I need to load in the data, and then take a quick look at the data to get a sense of what I'm dealing with. I'm initially interested in what unique columns there are, the data types of the columns,"
   ]
  },
  {
   "cell_type": "code",
   "execution_count": 3,
   "id": "fa4d8bbf",
   "metadata": {},
   "outputs": [
    {
     "data": {
      "text/html": [
       "<div>\n",
       "<style scoped>\n",
       "    .dataframe tbody tr th:only-of-type {\n",
       "        vertical-align: middle;\n",
       "    }\n",
       "\n",
       "    .dataframe tbody tr th {\n",
       "        vertical-align: top;\n",
       "    }\n",
       "\n",
       "    .dataframe thead th {\n",
       "        text-align: right;\n",
       "    }\n",
       "</style>\n",
       "<table border=\"1\" class=\"dataframe\">\n",
       "  <thead>\n",
       "    <tr style=\"text-align: right;\">\n",
       "      <th></th>\n",
       "      <th>STATISTIC</th>\n",
       "      <th>STATISTIC Label</th>\n",
       "      <th>TLIST(A1)</th>\n",
       "      <th>Year</th>\n",
       "      <th>C02617V03175</th>\n",
       "      <th>Type of Journey</th>\n",
       "      <th>UNIT</th>\n",
       "      <th>VALUE</th>\n",
       "    </tr>\n",
       "  </thead>\n",
       "  <tbody>\n",
       "    <tr>\n",
       "      <th>0</th>\n",
       "      <td>TCA01</td>\n",
       "      <td>Passenger Journeys by Rail (Thousand)</td>\n",
       "      <td>1981</td>\n",
       "      <td>1981</td>\n",
       "      <td>-</td>\n",
       "      <td>All journeys</td>\n",
       "      <td>Number</td>\n",
       "      <td>15374.0</td>\n",
       "    </tr>\n",
       "    <tr>\n",
       "      <th>1</th>\n",
       "      <td>TCA01</td>\n",
       "      <td>Passenger Journeys by Rail (Thousand)</td>\n",
       "      <td>1981</td>\n",
       "      <td>1981</td>\n",
       "      <td>01</td>\n",
       "      <td>Mainline and other services</td>\n",
       "      <td>Number</td>\n",
       "      <td>7379.0</td>\n",
       "    </tr>\n",
       "    <tr>\n",
       "      <th>2</th>\n",
       "      <td>TCA01</td>\n",
       "      <td>Passenger Journeys by Rail (Thousand)</td>\n",
       "      <td>1981</td>\n",
       "      <td>1981</td>\n",
       "      <td>02</td>\n",
       "      <td>Dublin suburban services</td>\n",
       "      <td>Number</td>\n",
       "      <td>7995.0</td>\n",
       "    </tr>\n",
       "    <tr>\n",
       "      <th>3</th>\n",
       "      <td>TCA01</td>\n",
       "      <td>Passenger Journeys by Rail (Thousand)</td>\n",
       "      <td>1981</td>\n",
       "      <td>1981</td>\n",
       "      <td>03</td>\n",
       "      <td>DART</td>\n",
       "      <td>Number</td>\n",
       "      <td>NaN</td>\n",
       "    </tr>\n",
       "    <tr>\n",
       "      <th>4</th>\n",
       "      <td>TCA01</td>\n",
       "      <td>Passenger Journeys by Rail (Thousand)</td>\n",
       "      <td>1981</td>\n",
       "      <td>1981</td>\n",
       "      <td>04</td>\n",
       "      <td>International journeys</td>\n",
       "      <td>Number</td>\n",
       "      <td>NaN</td>\n",
       "    </tr>\n",
       "    <tr>\n",
       "      <th>5</th>\n",
       "      <td>TCA01</td>\n",
       "      <td>Passenger Journeys by Rail (Thousand)</td>\n",
       "      <td>1982</td>\n",
       "      <td>1982</td>\n",
       "      <td>-</td>\n",
       "      <td>All journeys</td>\n",
       "      <td>Number</td>\n",
       "      <td>12813.0</td>\n",
       "    </tr>\n",
       "    <tr>\n",
       "      <th>6</th>\n",
       "      <td>TCA01</td>\n",
       "      <td>Passenger Journeys by Rail (Thousand)</td>\n",
       "      <td>1982</td>\n",
       "      <td>1982</td>\n",
       "      <td>01</td>\n",
       "      <td>Mainline and other services</td>\n",
       "      <td>Number</td>\n",
       "      <td>6677.0</td>\n",
       "    </tr>\n",
       "    <tr>\n",
       "      <th>7</th>\n",
       "      <td>TCA01</td>\n",
       "      <td>Passenger Journeys by Rail (Thousand)</td>\n",
       "      <td>1982</td>\n",
       "      <td>1982</td>\n",
       "      <td>02</td>\n",
       "      <td>Dublin suburban services</td>\n",
       "      <td>Number</td>\n",
       "      <td>6136.0</td>\n",
       "    </tr>\n",
       "    <tr>\n",
       "      <th>8</th>\n",
       "      <td>TCA01</td>\n",
       "      <td>Passenger Journeys by Rail (Thousand)</td>\n",
       "      <td>1982</td>\n",
       "      <td>1982</td>\n",
       "      <td>03</td>\n",
       "      <td>DART</td>\n",
       "      <td>Number</td>\n",
       "      <td>NaN</td>\n",
       "    </tr>\n",
       "    <tr>\n",
       "      <th>9</th>\n",
       "      <td>TCA01</td>\n",
       "      <td>Passenger Journeys by Rail (Thousand)</td>\n",
       "      <td>1982</td>\n",
       "      <td>1982</td>\n",
       "      <td>04</td>\n",
       "      <td>International journeys</td>\n",
       "      <td>Number</td>\n",
       "      <td>NaN</td>\n",
       "    </tr>\n",
       "  </tbody>\n",
       "</table>\n",
       "</div>"
      ],
      "text/plain": [
       "  STATISTIC                        STATISTIC Label  TLIST(A1)  Year  \\\n",
       "0     TCA01  Passenger Journeys by Rail (Thousand)       1981  1981   \n",
       "1     TCA01  Passenger Journeys by Rail (Thousand)       1981  1981   \n",
       "2     TCA01  Passenger Journeys by Rail (Thousand)       1981  1981   \n",
       "3     TCA01  Passenger Journeys by Rail (Thousand)       1981  1981   \n",
       "4     TCA01  Passenger Journeys by Rail (Thousand)       1981  1981   \n",
       "5     TCA01  Passenger Journeys by Rail (Thousand)       1982  1982   \n",
       "6     TCA01  Passenger Journeys by Rail (Thousand)       1982  1982   \n",
       "7     TCA01  Passenger Journeys by Rail (Thousand)       1982  1982   \n",
       "8     TCA01  Passenger Journeys by Rail (Thousand)       1982  1982   \n",
       "9     TCA01  Passenger Journeys by Rail (Thousand)       1982  1982   \n",
       "\n",
       "  C02617V03175              Type of Journey    UNIT    VALUE  \n",
       "0            -                 All journeys  Number  15374.0  \n",
       "1           01  Mainline and other services  Number   7379.0  \n",
       "2           02     Dublin suburban services  Number   7995.0  \n",
       "3           03                         DART  Number      NaN  \n",
       "4           04       International journeys  Number      NaN  \n",
       "5            -                 All journeys  Number  12813.0  \n",
       "6           01  Mainline and other services  Number   6677.0  \n",
       "7           02     Dublin suburban services  Number   6136.0  \n",
       "8           03                         DART  Number      NaN  \n",
       "9           04       International journeys  Number      NaN  "
      ]
     },
     "execution_count": 3,
     "metadata": {},
     "output_type": "execute_result"
    }
   ],
   "source": [
    "df1 = pd.read_csv(\"TCA01.csv\")\n",
    "df1.head(10)\n",
    "#pop_data.tail()"
   ]
  },
  {
   "cell_type": "code",
   "execution_count": 4,
   "id": "ec1ec2b3",
   "metadata": {
    "scrolled": false
   },
   "outputs": [
    {
     "name": "stdout",
     "output_type": "stream",
     "text": [
      "<class 'pandas.core.frame.DataFrame'>\n",
      "RangeIndex: 210 entries, 0 to 209\n",
      "Data columns (total 8 columns):\n",
      " #   Column           Non-Null Count  Dtype  \n",
      "---  ------           --------------  -----  \n",
      " 0   STATISTIC        210 non-null    object \n",
      " 1   STATISTIC Label  210 non-null    object \n",
      " 2   TLIST(A1)        210 non-null    int64  \n",
      " 3   Year             210 non-null    int64  \n",
      " 4   C02617V03175     210 non-null    object \n",
      " 5   Type of Journey  210 non-null    object \n",
      " 6   UNIT             210 non-null    object \n",
      " 7   VALUE            165 non-null    float64\n",
      "dtypes: float64(1), int64(2), object(5)\n",
      "memory usage: 13.3+ KB\n"
     ]
    }
   ],
   "source": [
    "df1.info()"
   ]
  },
  {
   "cell_type": "code",
   "execution_count": 5,
   "id": "4f0ce5ca",
   "metadata": {},
   "outputs": [
    {
     "data": {
      "text/html": [
       "<div>\n",
       "<style scoped>\n",
       "    .dataframe tbody tr th:only-of-type {\n",
       "        vertical-align: middle;\n",
       "    }\n",
       "\n",
       "    .dataframe tbody tr th {\n",
       "        vertical-align: top;\n",
       "    }\n",
       "\n",
       "    .dataframe thead th {\n",
       "        text-align: right;\n",
       "    }\n",
       "</style>\n",
       "<table border=\"1\" class=\"dataframe\">\n",
       "  <thead>\n",
       "    <tr style=\"text-align: right;\">\n",
       "      <th></th>\n",
       "      <th>STATISTIC</th>\n",
       "      <th>STATISTIC Label</th>\n",
       "      <th>C02617V03175</th>\n",
       "      <th>Type of Journey</th>\n",
       "      <th>UNIT</th>\n",
       "    </tr>\n",
       "  </thead>\n",
       "  <tbody>\n",
       "    <tr>\n",
       "      <th>count</th>\n",
       "      <td>210</td>\n",
       "      <td>210</td>\n",
       "      <td>210</td>\n",
       "      <td>210</td>\n",
       "      <td>210</td>\n",
       "    </tr>\n",
       "    <tr>\n",
       "      <th>unique</th>\n",
       "      <td>1</td>\n",
       "      <td>1</td>\n",
       "      <td>5</td>\n",
       "      <td>5</td>\n",
       "      <td>1</td>\n",
       "    </tr>\n",
       "    <tr>\n",
       "      <th>top</th>\n",
       "      <td>TCA01</td>\n",
       "      <td>Passenger Journeys by Rail (Thousand)</td>\n",
       "      <td>-</td>\n",
       "      <td>All journeys</td>\n",
       "      <td>Number</td>\n",
       "    </tr>\n",
       "    <tr>\n",
       "      <th>freq</th>\n",
       "      <td>210</td>\n",
       "      <td>210</td>\n",
       "      <td>42</td>\n",
       "      <td>42</td>\n",
       "      <td>210</td>\n",
       "    </tr>\n",
       "  </tbody>\n",
       "</table>\n",
       "</div>"
      ],
      "text/plain": [
       "       STATISTIC                        STATISTIC Label C02617V03175  \\\n",
       "count        210                                    210          210   \n",
       "unique         1                                      1            5   \n",
       "top        TCA01  Passenger Journeys by Rail (Thousand)            -   \n",
       "freq         210                                    210           42   \n",
       "\n",
       "       Type of Journey    UNIT  \n",
       "count              210     210  \n",
       "unique               5       1  \n",
       "top       All journeys  Number  \n",
       "freq                42     210  "
      ]
     },
     "execution_count": 5,
     "metadata": {},
     "output_type": "execute_result"
    }
   ],
   "source": [
    "#df1.describe()\n",
    "df1.describe(include=object)"
   ]
  },
  {
   "cell_type": "code",
   "execution_count": 6,
   "id": "32752f04",
   "metadata": {
    "scrolled": false
   },
   "outputs": [
    {
     "data": {
      "text/plain": [
       "STATISTIC           0\n",
       "STATISTIC Label     0\n",
       "TLIST(A1)           0\n",
       "Year                0\n",
       "C02617V03175        0\n",
       "Type of Journey     0\n",
       "UNIT                0\n",
       "VALUE              45\n",
       "dtype: int64"
      ]
     },
     "execution_count": 6,
     "metadata": {},
     "output_type": "execute_result"
    }
   ],
   "source": [
    "#checking amount of missing data..\n",
    "df1.isnull().sum()"
   ]
  },
  {
   "cell_type": "code",
   "execution_count": 7,
   "id": "562bf4ff",
   "metadata": {},
   "outputs": [
    {
     "name": "stdout",
     "output_type": "stream",
     "text": [
      "False    210\n",
      "dtype: int64\n"
     ]
    }
   ],
   "source": [
    "duplicates = df1.duplicated()\n",
    "print(duplicates.value_counts())"
   ]
  },
  {
   "cell_type": "code",
   "execution_count": 8,
   "id": "358fc24d",
   "metadata": {},
   "outputs": [
    {
     "data": {
      "text/plain": [
       "True"
      ]
     },
     "execution_count": 8,
     "metadata": {},
     "output_type": "execute_result"
    }
   ],
   "source": [
    "df1[\"TLIST(A1)\"].equals(df1[\"Year\"])"
   ]
  },
  {
   "cell_type": "markdown",
   "id": "f65857b9",
   "metadata": {},
   "source": [
    "### Observations on the above:\n",
    "\n",
    "**From calling `.head()`:**\n",
    "* STATISTIC and STATISTIC Label columns redundant. UNIT also irrelevant. VALUE column refers to the number of passender journeys by rail in thousands.\n",
    "* Not sure what TLIST(A1) is, possibly an error from when the data was downloaded from the CSO website? Will have to check if the columns are equal and if so drop one of the columns.\n",
    "* Similarly, not sure what C02617V03175 refers to - will have to check values. From looking at .head(10), it might just be an index key for the Type of Journey values?\n",
    "\n",
    "\n",
    "**From calling `.info()`:**\n",
    "* Dataset contains 210 observations\n",
    "* The statistical information extracted (ie. the mean, std, etc.) isn't reliable at this early stage, as there's a total variable also ('All journeys')\n",
    "\n",
    "\n",
    "**From calling `.describe()`:**\n",
    "* For the numerical features:\n",
    "    * Year column: ranges from 1981 to 2022.\n",
    "    * Missing values in VALUE column.. will need to investigate and decide what to do with them.\n",
    "* For the categorical features:\n",
    "    * \"STATISTIC Label\" and \"UNIT\" only have one unique value each (\"Passenger Journeys by Rail (Thousand)\" and \"number\" respectively)\n",
    "    * \"C02617V03175\" and \"Type of Journey\" both have 5 unique values - this reinforces my assumption that C02617V03175 is a sort of key for the latter feature. This will need to be confirmed.\n",
    "\n",
    "\n",
    "**From calling `.isnull().sum()`:**\n",
    "* 45 missing values in the VALUE field. Will need to investigate and figure out why these are missing. 45 is significant as dataset contains only 210 observations - this means 21.4% of the observations contain missing values.\n",
    "\n",
    "\n",
    "**From calling `duplicates.value_counts()`:**\n",
    "* There are no duplicated observations.\n",
    "\n",
    "**From calling `df1[\"TLIST(A1)\"].equals(df1[\"Year\"])`:**\n",
    "* Output is true, implying these columns are the exact same, and one of these columns can be dropped.\n",
    "\n"
   ]
  },
  {
   "cell_type": "markdown",
   "id": "ded4dbdc",
   "metadata": {},
   "source": [
    "One of the labels under the \"Type of Journey\" feature is \"International journeys\". Noting that Ireland is an island with no linking tunnels, I'd like to get a closer look at this. In doing this, I'll confirm that \"C02617V03175\" is just an index key (and can therefore be dropped to tidy the dataset), and filter both \"Type of Journey\" and \"C02617V03175\" for the relevant variable:"
   ]
  },
  {
   "cell_type": "code",
   "execution_count": 9,
   "id": "692372be",
   "metadata": {},
   "outputs": [
    {
     "data": {
      "text/plain": [
       "True"
      ]
     },
     "execution_count": 9,
     "metadata": {},
     "output_type": "execute_result"
    }
   ],
   "source": [
    "int_journeys1 = df1[df1[\"Type of Journey\"] == \"International journeys\"]\n",
    "int_journeys2 = df1[df1[\"C02617V03175\"] == \"04\"]\n",
    "#int_journeys1.info()\n",
    "#int_journeys2.info()\n",
    "int_journeys1.equals(int_journeys2)"
   ]
  },
  {
   "cell_type": "code",
   "execution_count": 10,
   "id": "fd45c8e1",
   "metadata": {},
   "outputs": [
    {
     "name": "stdout",
     "output_type": "stream",
     "text": [
      "<class 'pandas.core.frame.DataFrame'>\n",
      "Int64Index: 42 entries, 4 to 209\n",
      "Data columns (total 8 columns):\n",
      " #   Column           Non-Null Count  Dtype  \n",
      "---  ------           --------------  -----  \n",
      " 0   STATISTIC        42 non-null     object \n",
      " 1   STATISTIC Label  42 non-null     object \n",
      " 2   TLIST(A1)        42 non-null     int64  \n",
      " 3   Year             42 non-null     int64  \n",
      " 4   C02617V03175     42 non-null     object \n",
      " 5   Type of Journey  42 non-null     object \n",
      " 6   UNIT             42 non-null     object \n",
      " 7   VALUE            21 non-null     float64\n",
      "dtypes: float64(1), int64(2), object(5)\n",
      "memory usage: 3.0+ KB\n"
     ]
    }
   ],
   "source": [
    "int_journeys1.info()"
   ]
  },
  {
   "cell_type": "markdown",
   "id": "c911f093",
   "metadata": {},
   "source": [
    "This confirms that \"C02617V03175\" is an index key, and can therefore be dropped. \n",
    "From calling .info(), I can see that there are 21 non-null values, and therefore some international journeys taking place. From my own knowledge of the Irish Rail system, I can assume that this is the Dublin -> Belfast route, but there's no information in the current dataset which can confirm this."
   ]
  },
  {
   "cell_type": "code",
   "execution_count": 11,
   "id": "f4987b05",
   "metadata": {
    "scrolled": true
   },
   "outputs": [
    {
     "data": {
      "text/plain": [
       "STATISTIC           0\n",
       "STATISTIC Label     0\n",
       "TLIST(A1)           0\n",
       "Year                0\n",
       "C02617V03175        0\n",
       "Type of Journey     0\n",
       "UNIT                0\n",
       "VALUE              21\n",
       "dtype: int64"
      ]
     },
     "execution_count": 11,
     "metadata": {},
     "output_type": "execute_result"
    }
   ],
   "source": [
    "int_journeys1.isnull().sum()"
   ]
  },
  {
   "cell_type": "markdown",
   "id": "30bbfd4c",
   "metadata": {},
   "source": [
    "<summary style=\"color:blue;\">\n",
    "\n",
    "# 2. Preparing the Primary Dataset\n"
   ]
  },
  {
   "cell_type": "markdown",
   "id": "24c3653a",
   "metadata": {},
   "source": [
    "<summary style=\"color:blue;\">\n",
    "\n",
    "###### 2.1 Dropping \"Statistic Label\", \"TLIST(A1)\", \"C02617V03175\" and \"UNIT\" columns \n",
    "    \n",
    "</summary>\n",
    "\n",
    "\n",
    "I was planning on removing the \"Statistic Label\" as I felt it's providing no purpose in the analysis. However, I redecided to keep it as it contains important information which may be forgotten in the future (that the VALUEs for each observation are in thousands)\n",
    "    \n",
    "    \n",
    "I'm also removing the \"UNIT\" column, as I would rather include this in the \"VALUE\" column (by multiplying the values by a thousand)\n",
    "\n",
    "As noted above, \"TLIST(A1)\" is a duplication of the \"Year\" column, and so should be dropped. Further, \"C02617V03175\" can be dropped as it is just an index key, and I'd rather work with the strings in the \"Type of Journey\" column which are a full description of the type of journey. \n",
    "    \n",
    "    \n",
    "Doing this should make the dataframe less clunky and easier to explore\n",
    "\n",
    "However, I will keep the \"Statistic\" column as this could be a useful reference when I merge data to this dataset in the future."
   ]
  },
  {
   "cell_type": "code",
   "execution_count": 12,
   "id": "95aecdcc",
   "metadata": {},
   "outputs": [],
   "source": [
    "df1 = df1.drop(columns = ['TLIST(A1)', 'C02617V03175', 'UNIT'])\n",
    "#df1.head()"
   ]
  },
  {
   "cell_type": "markdown",
   "id": "d9dc2817",
   "metadata": {},
   "source": [
    "<summary style=\"color:blue;\">\n",
    "\n",
    "###### 2.2 Renaming the column headings\n",
    "    \n",
    "</summary>\n",
    "    \n",
    "This is just to make it easier to write code, and also to make headings reflect the data their respective column contains more accurately. I also want to make them all lowercase so it's more convenient to type. I won't touch the STATISTIC column heading as it's unlikely I'll be utilising it."
   ]
  },
  {
   "cell_type": "code",
   "execution_count": 13,
   "id": "07e51567",
   "metadata": {},
   "outputs": [
    {
     "data": {
      "text/html": [
       "<div>\n",
       "<style scoped>\n",
       "    .dataframe tbody tr th:only-of-type {\n",
       "        vertical-align: middle;\n",
       "    }\n",
       "\n",
       "    .dataframe tbody tr th {\n",
       "        vertical-align: top;\n",
       "    }\n",
       "\n",
       "    .dataframe thead th {\n",
       "        text-align: right;\n",
       "    }\n",
       "</style>\n",
       "<table border=\"1\" class=\"dataframe\">\n",
       "  <thead>\n",
       "    <tr style=\"text-align: right;\">\n",
       "      <th></th>\n",
       "      <th>STATISTIC</th>\n",
       "      <th>STATISTIC Label</th>\n",
       "      <th>Year</th>\n",
       "      <th>Type of Journey</th>\n",
       "      <th>VALUE</th>\n",
       "    </tr>\n",
       "  </thead>\n",
       "  <tbody>\n",
       "    <tr>\n",
       "      <th>0</th>\n",
       "      <td>TCA01</td>\n",
       "      <td>Passenger Journeys by Rail (Thousand)</td>\n",
       "      <td>1981</td>\n",
       "      <td>All journeys</td>\n",
       "      <td>15374.0</td>\n",
       "    </tr>\n",
       "    <tr>\n",
       "      <th>1</th>\n",
       "      <td>TCA01</td>\n",
       "      <td>Passenger Journeys by Rail (Thousand)</td>\n",
       "      <td>1981</td>\n",
       "      <td>Mainline and other services</td>\n",
       "      <td>7379.0</td>\n",
       "    </tr>\n",
       "    <tr>\n",
       "      <th>2</th>\n",
       "      <td>TCA01</td>\n",
       "      <td>Passenger Journeys by Rail (Thousand)</td>\n",
       "      <td>1981</td>\n",
       "      <td>Dublin suburban services</td>\n",
       "      <td>7995.0</td>\n",
       "    </tr>\n",
       "    <tr>\n",
       "      <th>3</th>\n",
       "      <td>TCA01</td>\n",
       "      <td>Passenger Journeys by Rail (Thousand)</td>\n",
       "      <td>1981</td>\n",
       "      <td>DART</td>\n",
       "      <td>NaN</td>\n",
       "    </tr>\n",
       "    <tr>\n",
       "      <th>4</th>\n",
       "      <td>TCA01</td>\n",
       "      <td>Passenger Journeys by Rail (Thousand)</td>\n",
       "      <td>1981</td>\n",
       "      <td>International journeys</td>\n",
       "      <td>NaN</td>\n",
       "    </tr>\n",
       "  </tbody>\n",
       "</table>\n",
       "</div>"
      ],
      "text/plain": [
       "  STATISTIC                        STATISTIC Label  Year  \\\n",
       "0     TCA01  Passenger Journeys by Rail (Thousand)  1981   \n",
       "1     TCA01  Passenger Journeys by Rail (Thousand)  1981   \n",
       "2     TCA01  Passenger Journeys by Rail (Thousand)  1981   \n",
       "3     TCA01  Passenger Journeys by Rail (Thousand)  1981   \n",
       "4     TCA01  Passenger Journeys by Rail (Thousand)  1981   \n",
       "\n",
       "               Type of Journey    VALUE  \n",
       "0                 All journeys  15374.0  \n",
       "1  Mainline and other services   7379.0  \n",
       "2     Dublin suburban services   7995.0  \n",
       "3                         DART      NaN  \n",
       "4       International journeys      NaN  "
      ]
     },
     "execution_count": 13,
     "metadata": {},
     "output_type": "execute_result"
    }
   ],
   "source": [
    "df1.head()"
   ]
  },
  {
   "cell_type": "code",
   "execution_count": 14,
   "id": "b24c1adb",
   "metadata": {},
   "outputs": [
    {
     "data": {
      "text/plain": [
       "Index(['STATISTIC', 'STATISTIC Label', 'year', 'journey_type',\n",
       "       'passenger_count'],\n",
       "      dtype='object')"
      ]
     },
     "execution_count": 14,
     "metadata": {},
     "output_type": "execute_result"
    }
   ],
   "source": [
    "df1 = df1.rename(columns = {'Year':'year', \n",
    "                            'Type of Journey':'journey_type',\n",
    "                            'VALUE':'passenger_count'})\n",
    "df1.columns"
   ]
  },
  {
   "cell_type": "markdown",
   "id": "fc9d4f4c",
   "metadata": {},
   "source": [
    "<summary style=\"color:blue;\">\n",
    "\n",
    "###### 2.3 Missing Values\n",
    "    \n",
    "</summary>\n",
    "\n",
    "First, I want to look at the missing values, so I'll move them into a new dataset. I'm particularly interested in what values are actually missing. Also interested in what year the missing data is, so I can decide if limiting the analysis to a particular year range is better. As noted from calling .info() on the dataset earlier, only \"passenger_count\" contains missing values, so I can streamline the code a little:\n",
    "    "
   ]
  },
  {
   "cell_type": "code",
   "execution_count": 15,
   "id": "c59f7545",
   "metadata": {},
   "outputs": [
    {
     "name": "stdout",
     "output_type": "stream",
     "text": [
      "There are 45 missing values in the total_migration column. The total percentage of missing values is 21.43 %\n"
     ]
    }
   ],
   "source": [
    "missing_count = df1['passenger_count'].isnull().sum()\n",
    "\n",
    "print('There are', missing_count, 'missing values in the total_migration column. The total percentage of missing values is', round((missing_count/len(df1) * 100), 2), '%')"
   ]
  },
  {
   "cell_type": "code",
   "execution_count": 16,
   "id": "2dc9dedd",
   "metadata": {},
   "outputs": [],
   "source": [
    "missing = pd.isnull(df1['passenger_count'])\n",
    "missing_data = df1[missing]\n",
    "#missing_data"
   ]
  },
  {
   "cell_type": "markdown",
   "id": "0d97fcb7",
   "metadata": {},
   "source": [
    "From viewing the dataframe containing observations with missing values, I note that there's data missing for international journeys until 2001 inclusive, and for the DART to 2004 inclusive. This data is missing not at random (MNAR), as it's likely this information wasn't collected prior to these years and the passenger numbers were instead included in another journey type. I'll keep this data in there for now and reconsider what to do when I'm doing further analysis."
   ]
  },
  {
   "cell_type": "markdown",
   "id": "fbce5784",
   "metadata": {},
   "source": [
    "## Summary of the data tidying:\n",
    "\n",
    "I dropped the irrelevant columns but kept \"Statistic label\" to remember that `passenger_count` is in thousands\n",
    "\n",
    "This dataset contains missing values, which are Missing Not at Random (MNAR).\n",
    "\n"
   ]
  },
  {
   "cell_type": "markdown",
   "id": "a728c80d",
   "metadata": {},
   "source": [
    "<summary style=\"color:blue;\">\n",
    "    \n",
    "# 3. Visualising the Primary Dataset\n",
    "\n",
    "</summary>\n",
    "\n",
    "##### Figure key:  \n",
    "3.1 Total Passenger Count Over Time\n",
    "\n",
    "###### My approach when putting together these visualisations:\n",
    "The ultimate goal was to visually explore the primary dataset.\n",
    "A stepwise approach was taken with the programming, as the data was first filtered using a boolean mask approach, and then plotted. In the interest of making the code as tidy as possible, subplots were used.\n",
    "\n",
    "In terms of visualisations, Tufte’s Principles were followed. \n",
    "* Plots were all labelled with axes titles and plot titles\n",
    "* redundant ink (e.g. gridlines) and non-data ink removed, to ensure data isn't drowned out.\n",
    "* another example of inimising redundant ink was the decision not to multiply the passenger_count column by a thousand to reflect the true value.\n",
    "* data-ink ratio maximised, to ensure readers interpret the message that the data is conveying.\n",
    "* default colours used, as this is in line with what readers are most accustomed to.\n",
    "* for plots with multiple variables, I felt the detault palette wasn't sutiable as the red and orange are quite similar. Instead, I used the \"Set1\" palette which is built into Seaborn"
   ]
  },
  {
   "cell_type": "markdown",
   "id": "1f173370",
   "metadata": {},
   "source": [
    "<summary style=\"color:blue;\">\n",
    "    \n",
    "###### 3.1 Total Passenger Count Over Time"
   ]
  },
  {
   "cell_type": "code",
   "execution_count": 17,
   "id": "43443abc",
   "metadata": {},
   "outputs": [
    {
     "data": {
      "image/png": "[encoded data removed]",
      "text/plain": [
       "<Figure size 900x1200 with 2 Axes>"
      ]
     },
     "metadata": {},
     "output_type": "display_data"
    }
   ],
   "source": [
    "total_passenger_count = df1[df1[\"journey_type\"] == \"All journeys\"]\n",
    "\n",
    "plt.figure(figsize=(9, 12))\n",
    "plt.suptitle('Passengers Travelling by Rail, 1981-2022', fontsize=16)\n",
    "\n",
    "plt.subplot(2, 1, 1)\n",
    "sns.lineplot(x='year', y='passenger_count', data=total_passenger_count)\n",
    "plt.xlabel('Year')\n",
    "plt.ylabel('Passenger Count (Thousand)')\n",
    "plt.title('Total Number of Passengers Annually', fontsize=14)\n",
    "\n",
    "plt.subplot(2, 1, 2)\n",
    "sns.boxplot(y='passenger_count', data=total_passenger_count)\n",
    "plt.ylabel('Passenger Count (Thousand)')\n",
    "plt.title('Boxplot of Total Number of Passengers', fontsize=14)\n",
    "\n",
    "plt.subplots_adjust(top=0.92, hspace=0.2)\n",
    "plt.show()"
   ]
  },
  {
   "cell_type": "code",
   "execution_count": 18,
   "id": "f80d6ad8",
   "metadata": {},
   "outputs": [
    {
     "data": {
      "text/plain": [
       "count       42.000000\n",
       "mean     31458.571429\n",
       "std       9802.232394\n",
       "min      12813.000000\n",
       "25%      25819.000000\n",
       "50%      32455.500000\n",
       "75%      37766.750000\n",
       "max      50060.000000\n",
       "Name: passenger_count, dtype: float64"
      ]
     },
     "execution_count": 18,
     "metadata": {},
     "output_type": "execute_result"
    }
   ],
   "source": [
    "total_passenger_count['passenger_count'].describe()"
   ]
  },
  {
   "cell_type": "markdown",
   "id": "ab502506",
   "metadata": {},
   "source": [
    "###### Reflections on the above:\n",
    "\n",
    "* The _annual passenger count_ steadily increased until approx 2009-2013 when it dropped slightly, and then again in 2020 when it dropped dramatically. It can be assumed that the former was a result of the economic crisis, and that the latter decrease was a result of COVID-19. The 2022 figure shows it's on the upward trend again, but still not at pre-pandemic levels, likely due to an increasing amount of remote and hybrid workers.\n",
    "\n",
    "* _Statistical information:_ The mean annual passenger count is 31458.57, and the median is 32455.50. The difference means the data is very slightly skewed to the left, as can be observed in the boxplot above. This is surprising as, with expansion of train lines with more investment over the years, you'd expect it to be much more significantly skewed to the left as passenger numbers increase."
   ]
  },
  {
   "cell_type": "markdown",
   "id": "31ddfa24",
   "metadata": {},
   "source": [
    "<summary style=\"color:blue;\">\n",
    "    \n",
    "###### 3.2 Total Passenger Across Journey Types"
   ]
  },
  {
   "cell_type": "code",
   "execution_count": 19,
   "id": "fbb2606d",
   "metadata": {},
   "outputs": [
    {
     "data": {
      "image/png": "[encoded data removed]",
      "text/plain": [
       "<Figure size 900x1200 with 2 Axes>"
      ]
     },
     "metadata": {},
     "output_type": "display_data"
    }
   ],
   "source": [
    "total_passenger_journey_type = df1[df1[\"journey_type\"] != \"All journeys\"]\n",
    "\n",
    "df_pivot = total_passenger_journey_type.pivot(index='year', columns='journey_type', values='passenger_count')\n",
    "\n",
    "custom_palette = sns.color_palette(\"Set1\", n_colors=len(df_pivot.columns)) # more distinct colour palette than the default\n",
    "\n",
    "plt.figure(figsize=(9, 12))\n",
    "plt.suptitle('Passengers Travelling by Rail, 1981-2022', fontsize=16)\n",
    "\n",
    "plt.subplot(2, 1, 1)\n",
    "for i, journey_type in enumerate(df_pivot.columns):\n",
    "    sns.lineplot(x=df_pivot.index, y=df_pivot[journey_type], label=journey_type, color=custom_palette[i])\n",
    "plt.xlabel('Year')\n",
    "plt.ylabel('Passenger Count (Thousand)')\n",
    "plt.title('Total Number of Passengers Annually', fontsize=14)\n",
    "\n",
    "plt.subplot(2, 1, 2)\n",
    "for i, journey_type in enumerate(df_pivot.columns):\n",
    "    sns.boxplot(data=total_passenger_journey_type, x='journey_type', y='passenger_count', palette=custom_palette)\n",
    "plt.xlabel('Journey Type')\n",
    "plt.xticks(rotation=45)\n",
    "plt.ylabel('Passenger Count (Thousand)')\n",
    "plt.title('Boxplot of Total Number of Passengers', fontsize=14)\n",
    "\n",
    "plt.subplots_adjust(top=0.92, hspace=0.2)\n",
    "plt.show()\n"
   ]
  },
  {
   "cell_type": "code",
   "execution_count": 20,
   "id": "edce4279",
   "metadata": {},
   "outputs": [
    {
     "data": {
      "text/plain": [
       "count       42.000000\n",
       "mean      8931.404762\n",
       "std       1897.229200\n",
       "min       4667.000000\n",
       "25%       7594.750000\n",
       "50%       8891.500000\n",
       "75%      10430.000000\n",
       "max      13179.000000\n",
       "Name: Mainline and other services, dtype: float64"
      ]
     },
     "execution_count": 20,
     "metadata": {},
     "output_type": "execute_result"
    }
   ],
   "source": [
    "df_pivot['Mainline and other services'].describe()"
   ]
  },
  {
   "cell_type": "markdown",
   "id": "1587b69d",
   "metadata": {},
   "source": [
    "###### Reflections on the above:\n",
    "\n",
    "* As mentioned previously, there's only data for the \"DART\" from 2005 onwards. However, the DART has been in operation since the 1980s. From the above plot, I can make the assumption that prior to 2005, the passenger numbers were included under \"Dublin suburban services\" due to the dramatic drop in passenger count in 2005. \n",
    "    * For this reason, the statistical information isn't reliable, as \"Dublin suburban services\" contains DART information and possibly \"International journeys\" passenger numbers as well, which skews the data.\n",
    "* The \"Mainland and other services\" have been on a steady increase overall.\n",
    "* The decrease during the period 2020-21 is likely a result of the pandemic.\n",
    "* \"International journeys\" have remained relatively constant. From my own knowledge of the Irish Rail system, I assume that there are only a set number of services between Dublin and Belfast each day and this hasn't changed much over the years.\n",
    "\n",
    "Boxplots:\n",
    "* As above, the statistical information for \"Dublin suburban services\" likely isn't reliable.\n",
    "* DART: The mean is 16906.50, and the median is 16971.50. These are similar which implies no skew, but we can see from the boxplot that there is a large skew to the right. This is likely a result of the outliers observed on the plot. Comparing to the top plot, the 2020-2021 period account for these outliers.\n",
    "* Mainline and other services: The mean is 8931.40, and the median is 8891.50. The mean is slightly greater than the median, implying a slight right skew.  "
   ]
  },
  {
   "cell_type": "markdown",
   "id": "a7b33aaa",
   "metadata": {},
   "source": [
    "<summary style=\"color:blue;\">\n",
    "    \n",
    "# 4. The impact of Rail Infrastructure on Passenger Count (Supplementary Data)\n",
    "    \n",
    "</summary>\n",
    "\n",
    "A dataset, from the same publisher, was identified with the goal of looking at the relationship between the rail infrastructure (e.g., the length of the rail system) and the passenger numbers.\n",
    "\n",
    "First, I will quickly look at and prepare the data, following a similar procedure to the above, to merge it in and visualise data. "
   ]
  },
  {
   "cell_type": "markdown",
   "id": "3fc8249b",
   "metadata": {},
   "source": [
    "<summary style=\"color:blue;\">\n",
    "    \n",
    "###### 4.1 EDA, Cleaning, Preparation of the supplementary dataset"
   ]
  },
  {
   "cell_type": "code",
   "execution_count": 21,
   "id": "df609949",
   "metadata": {},
   "outputs": [
    {
     "data": {
      "text/html": [
       "<div>\n",
       "<style scoped>\n",
       "    .dataframe tbody tr th:only-of-type {\n",
       "        vertical-align: middle;\n",
       "    }\n",
       "\n",
       "    .dataframe tbody tr th {\n",
       "        vertical-align: top;\n",
       "    }\n",
       "\n",
       "    .dataframe thead th {\n",
       "        text-align: right;\n",
       "    }\n",
       "</style>\n",
       "<table border=\"1\" class=\"dataframe\">\n",
       "  <thead>\n",
       "    <tr style=\"text-align: right;\">\n",
       "      <th></th>\n",
       "      <th>STATISTIC</th>\n",
       "      <th>Statistic Label</th>\n",
       "      <th>TLIST(A1)</th>\n",
       "      <th>Year</th>\n",
       "      <th>C02196V02652</th>\n",
       "      <th>State</th>\n",
       "      <th>UNIT</th>\n",
       "      <th>VALUE</th>\n",
       "    </tr>\n",
       "  </thead>\n",
       "  <tbody>\n",
       "    <tr>\n",
       "      <th>32</th>\n",
       "      <td>TOA21C05</td>\n",
       "      <td>Length of electrified main track</td>\n",
       "      <td>2020</td>\n",
       "      <td>2020</td>\n",
       "      <td>-</td>\n",
       "      <td>State</td>\n",
       "      <td>main track km</td>\n",
       "      <td>107.5</td>\n",
       "    </tr>\n",
       "    <tr>\n",
       "      <th>33</th>\n",
       "      <td>TOA21C05</td>\n",
       "      <td>Length of electrified main track</td>\n",
       "      <td>2021</td>\n",
       "      <td>2021</td>\n",
       "      <td>-</td>\n",
       "      <td>State</td>\n",
       "      <td>main track km</td>\n",
       "      <td>107.5</td>\n",
       "    </tr>\n",
       "    <tr>\n",
       "      <th>34</th>\n",
       "      <td>TOA21C05</td>\n",
       "      <td>Length of electrified main track</td>\n",
       "      <td>2022</td>\n",
       "      <td>2022</td>\n",
       "      <td>-</td>\n",
       "      <td>State</td>\n",
       "      <td>main track km</td>\n",
       "      <td>107.5</td>\n",
       "    </tr>\n",
       "    <tr>\n",
       "      <th>35</th>\n",
       "      <td>TOA21C06</td>\n",
       "      <td>Passenger stations</td>\n",
       "      <td>2016</td>\n",
       "      <td>2016</td>\n",
       "      <td>-</td>\n",
       "      <td>State</td>\n",
       "      <td>Number</td>\n",
       "      <td>144.0</td>\n",
       "    </tr>\n",
       "    <tr>\n",
       "      <th>36</th>\n",
       "      <td>TOA21C06</td>\n",
       "      <td>Passenger stations</td>\n",
       "      <td>2017</td>\n",
       "      <td>2017</td>\n",
       "      <td>-</td>\n",
       "      <td>State</td>\n",
       "      <td>Number</td>\n",
       "      <td>144.0</td>\n",
       "    </tr>\n",
       "    <tr>\n",
       "      <th>37</th>\n",
       "      <td>TOA21C06</td>\n",
       "      <td>Passenger stations</td>\n",
       "      <td>2018</td>\n",
       "      <td>2018</td>\n",
       "      <td>-</td>\n",
       "      <td>State</td>\n",
       "      <td>Number</td>\n",
       "      <td>144.0</td>\n",
       "    </tr>\n",
       "    <tr>\n",
       "      <th>38</th>\n",
       "      <td>TOA21C06</td>\n",
       "      <td>Passenger stations</td>\n",
       "      <td>2019</td>\n",
       "      <td>2019</td>\n",
       "      <td>-</td>\n",
       "      <td>State</td>\n",
       "      <td>Number</td>\n",
       "      <td>144.0</td>\n",
       "    </tr>\n",
       "    <tr>\n",
       "      <th>39</th>\n",
       "      <td>TOA21C06</td>\n",
       "      <td>Passenger stations</td>\n",
       "      <td>2020</td>\n",
       "      <td>2020</td>\n",
       "      <td>-</td>\n",
       "      <td>State</td>\n",
       "      <td>Number</td>\n",
       "      <td>144.0</td>\n",
       "    </tr>\n",
       "    <tr>\n",
       "      <th>40</th>\n",
       "      <td>TOA21C06</td>\n",
       "      <td>Passenger stations</td>\n",
       "      <td>2021</td>\n",
       "      <td>2021</td>\n",
       "      <td>-</td>\n",
       "      <td>State</td>\n",
       "      <td>Number</td>\n",
       "      <td>145.0</td>\n",
       "    </tr>\n",
       "    <tr>\n",
       "      <th>41</th>\n",
       "      <td>TOA21C06</td>\n",
       "      <td>Passenger stations</td>\n",
       "      <td>2022</td>\n",
       "      <td>2022</td>\n",
       "      <td>-</td>\n",
       "      <td>State</td>\n",
       "      <td>Number</td>\n",
       "      <td>145.0</td>\n",
       "    </tr>\n",
       "  </tbody>\n",
       "</table>\n",
       "</div>"
      ],
      "text/plain": [
       "   STATISTIC                   Statistic Label  TLIST(A1)  Year C02196V02652  \\\n",
       "32  TOA21C05  Length of electrified main track       2020  2020            -   \n",
       "33  TOA21C05  Length of electrified main track       2021  2021            -   \n",
       "34  TOA21C05  Length of electrified main track       2022  2022            -   \n",
       "35  TOA21C06                Passenger stations       2016  2016            -   \n",
       "36  TOA21C06                Passenger stations       2017  2017            -   \n",
       "37  TOA21C06                Passenger stations       2018  2018            -   \n",
       "38  TOA21C06                Passenger stations       2019  2019            -   \n",
       "39  TOA21C06                Passenger stations       2020  2020            -   \n",
       "40  TOA21C06                Passenger stations       2021  2021            -   \n",
       "41  TOA21C06                Passenger stations       2022  2022            -   \n",
       "\n",
       "    State           UNIT  VALUE  \n",
       "32  State  main track km  107.5  \n",
       "33  State  main track km  107.5  \n",
       "34  State  main track km  107.5  \n",
       "35  State         Number  144.0  \n",
       "36  State         Number  144.0  \n",
       "37  State         Number  144.0  \n",
       "38  State         Number  144.0  \n",
       "39  State         Number  144.0  \n",
       "40  State         Number  145.0  \n",
       "41  State         Number  145.0  "
      ]
     },
     "execution_count": 21,
     "metadata": {},
     "output_type": "execute_result"
    }
   ],
   "source": [
    "df2 = pd.read_csv(\"TOA21.csv\")\n",
    "#df2.head(10)\n",
    "df2.tail(10)"
   ]
  },
  {
   "cell_type": "code",
   "execution_count": 22,
   "id": "988e6d17",
   "metadata": {},
   "outputs": [
    {
     "name": "stdout",
     "output_type": "stream",
     "text": [
      "<class 'pandas.core.frame.DataFrame'>\n",
      "RangeIndex: 42 entries, 0 to 41\n",
      "Data columns (total 8 columns):\n",
      " #   Column           Non-Null Count  Dtype  \n",
      "---  ------           --------------  -----  \n",
      " 0   STATISTIC        42 non-null     object \n",
      " 1   Statistic Label  42 non-null     object \n",
      " 2   TLIST(A1)        42 non-null     int64  \n",
      " 3   Year             42 non-null     int64  \n",
      " 4   C02196V02652     42 non-null     object \n",
      " 5   State            42 non-null     object \n",
      " 6   UNIT             42 non-null     object \n",
      " 7   VALUE            42 non-null     float64\n",
      "dtypes: float64(1), int64(2), object(5)\n",
      "memory usage: 2.8+ KB\n"
     ]
    }
   ],
   "source": [
    "df2.info()"
   ]
  },
  {
   "cell_type": "code",
   "execution_count": 23,
   "id": "ae7d13cb",
   "metadata": {},
   "outputs": [
    {
     "data": {
      "text/html": [
       "<div>\n",
       "<style scoped>\n",
       "    .dataframe tbody tr th:only-of-type {\n",
       "        vertical-align: middle;\n",
       "    }\n",
       "\n",
       "    .dataframe tbody tr th {\n",
       "        vertical-align: top;\n",
       "    }\n",
       "\n",
       "    .dataframe thead th {\n",
       "        text-align: right;\n",
       "    }\n",
       "</style>\n",
       "<table border=\"1\" class=\"dataframe\">\n",
       "  <thead>\n",
       "    <tr style=\"text-align: right;\">\n",
       "      <th></th>\n",
       "      <th>STATISTIC</th>\n",
       "      <th>Statistic Label</th>\n",
       "      <th>C02196V02652</th>\n",
       "      <th>State</th>\n",
       "      <th>UNIT</th>\n",
       "    </tr>\n",
       "  </thead>\n",
       "  <tbody>\n",
       "    <tr>\n",
       "      <th>count</th>\n",
       "      <td>42</td>\n",
       "      <td>42</td>\n",
       "      <td>42</td>\n",
       "      <td>42</td>\n",
       "      <td>42</td>\n",
       "    </tr>\n",
       "    <tr>\n",
       "      <th>unique</th>\n",
       "      <td>6</td>\n",
       "      <td>6</td>\n",
       "      <td>1</td>\n",
       "      <td>1</td>\n",
       "      <td>3</td>\n",
       "    </tr>\n",
       "    <tr>\n",
       "      <th>top</th>\n",
       "      <td>TOA21C01</td>\n",
       "      <td>Length of lines, total</td>\n",
       "      <td>-</td>\n",
       "      <td>State</td>\n",
       "      <td>line km</td>\n",
       "    </tr>\n",
       "    <tr>\n",
       "      <th>freq</th>\n",
       "      <td>7</td>\n",
       "      <td>7</td>\n",
       "      <td>42</td>\n",
       "      <td>42</td>\n",
       "      <td>21</td>\n",
       "    </tr>\n",
       "  </tbody>\n",
       "</table>\n",
       "</div>"
      ],
      "text/plain": [
       "       STATISTIC         Statistic Label C02196V02652  State     UNIT\n",
       "count         42                      42           42     42       42\n",
       "unique         6                       6            1      1        3\n",
       "top     TOA21C01  Length of lines, total            -  State  line km\n",
       "freq           7                       7           42     42       21"
      ]
     },
     "execution_count": 23,
     "metadata": {},
     "output_type": "execute_result"
    }
   ],
   "source": [
    "#df2.describe()\n",
    "df2.describe(include=object)"
   ]
  },
  {
   "cell_type": "code",
   "execution_count": 24,
   "id": "bad9ad22",
   "metadata": {},
   "outputs": [
    {
     "data": {
      "text/plain": [
       "array(['Length of lines, total', 'Length of lines, passenger',\n",
       "       'Length of lines in single track', 'Length of main track',\n",
       "       'Length of electrified main track', 'Passenger stations'],\n",
       "      dtype=object)"
      ]
     },
     "execution_count": 24,
     "metadata": {},
     "output_type": "execute_result"
    }
   ],
   "source": [
    "df2['Statistic Label'].unique()"
   ]
  },
  {
   "cell_type": "markdown",
   "id": "6884b00a",
   "metadata": {},
   "source": [
    "Notes on EDA:\n",
    "From a preliminary viewing using `.head()`, I can see that this dataset contains the\n",
    "The dataset ranges from 2016 to 2022. This is extremely limited dataset, and a proper analysis of the relationship between infrastructure and passengers will be impacted by the drop in passenger totals during the pandemic. \n",
    "Under \"statistic label\", there are 6 unique values, each describing an aspect to the infrastructure.\n",
    "* 'Length of lines, total', \n",
    "* 'Length of lines, passenger',\n",
    "* 'Length of lines in single track', \n",
    "* 'Length of main track',\n",
    "* 'Length of electrified main track', \n",
    "* 'Passenger stations'\n",
    "Of the above, I'm only interested in 'Length of lines, passenger' and 'Passenger stations', as the other infrastructure may include cargo and freight train lines. The irrelevant data will be removed.\n",
    "\n",
    "Further, there are redunctant columns again in this dataset: \"TLIST(A1)\", \"C02196V02652\" and \"State\". These will be dropped."
   ]
  },
  {
   "cell_type": "code",
   "execution_count": 25,
   "id": "3d65f7f6",
   "metadata": {},
   "outputs": [],
   "source": [
    "df2 = df2.drop(columns = ['TLIST(A1)', 'C02196V02652', 'State'])\n",
    "#df2.head()"
   ]
  },
  {
   "cell_type": "code",
   "execution_count": 26,
   "id": "d98d5620",
   "metadata": {},
   "outputs": [
    {
     "data": {
      "text/html": [
       "<div>\n",
       "<style scoped>\n",
       "    .dataframe tbody tr th:only-of-type {\n",
       "        vertical-align: middle;\n",
       "    }\n",
       "\n",
       "    .dataframe tbody tr th {\n",
       "        vertical-align: top;\n",
       "    }\n",
       "\n",
       "    .dataframe thead th {\n",
       "        text-align: right;\n",
       "    }\n",
       "</style>\n",
       "<table border=\"1\" class=\"dataframe\">\n",
       "  <thead>\n",
       "    <tr style=\"text-align: right;\">\n",
       "      <th></th>\n",
       "      <th>STATISTIC</th>\n",
       "      <th>Statistic Label</th>\n",
       "      <th>Year</th>\n",
       "      <th>UNIT</th>\n",
       "      <th>VALUE</th>\n",
       "    </tr>\n",
       "  </thead>\n",
       "  <tbody>\n",
       "    <tr>\n",
       "      <th>0</th>\n",
       "      <td>TOA21C02</td>\n",
       "      <td>Length of lines, passenger</td>\n",
       "      <td>2016</td>\n",
       "      <td>line km</td>\n",
       "      <td>1679.0</td>\n",
       "    </tr>\n",
       "    <tr>\n",
       "      <th>1</th>\n",
       "      <td>TOA21C02</td>\n",
       "      <td>Length of lines, passenger</td>\n",
       "      <td>2017</td>\n",
       "      <td>line km</td>\n",
       "      <td>1679.0</td>\n",
       "    </tr>\n",
       "    <tr>\n",
       "      <th>2</th>\n",
       "      <td>TOA21C02</td>\n",
       "      <td>Length of lines, passenger</td>\n",
       "      <td>2018</td>\n",
       "      <td>line km</td>\n",
       "      <td>1679.0</td>\n",
       "    </tr>\n",
       "    <tr>\n",
       "      <th>3</th>\n",
       "      <td>TOA21C02</td>\n",
       "      <td>Length of lines, passenger</td>\n",
       "      <td>2019</td>\n",
       "      <td>line km</td>\n",
       "      <td>1679.0</td>\n",
       "    </tr>\n",
       "    <tr>\n",
       "      <th>4</th>\n",
       "      <td>TOA21C02</td>\n",
       "      <td>Length of lines, passenger</td>\n",
       "      <td>2020</td>\n",
       "      <td>line km</td>\n",
       "      <td>1679.0</td>\n",
       "    </tr>\n",
       "    <tr>\n",
       "      <th>5</th>\n",
       "      <td>TOA21C02</td>\n",
       "      <td>Length of lines, passenger</td>\n",
       "      <td>2021</td>\n",
       "      <td>line km</td>\n",
       "      <td>1679.0</td>\n",
       "    </tr>\n",
       "    <tr>\n",
       "      <th>6</th>\n",
       "      <td>TOA21C02</td>\n",
       "      <td>Length of lines, passenger</td>\n",
       "      <td>2022</td>\n",
       "      <td>line km</td>\n",
       "      <td>1679.0</td>\n",
       "    </tr>\n",
       "    <tr>\n",
       "      <th>7</th>\n",
       "      <td>TOA21C06</td>\n",
       "      <td>Passenger stations</td>\n",
       "      <td>2016</td>\n",
       "      <td>Number</td>\n",
       "      <td>144.0</td>\n",
       "    </tr>\n",
       "    <tr>\n",
       "      <th>8</th>\n",
       "      <td>TOA21C06</td>\n",
       "      <td>Passenger stations</td>\n",
       "      <td>2017</td>\n",
       "      <td>Number</td>\n",
       "      <td>144.0</td>\n",
       "    </tr>\n",
       "    <tr>\n",
       "      <th>9</th>\n",
       "      <td>TOA21C06</td>\n",
       "      <td>Passenger stations</td>\n",
       "      <td>2018</td>\n",
       "      <td>Number</td>\n",
       "      <td>144.0</td>\n",
       "    </tr>\n",
       "    <tr>\n",
       "      <th>10</th>\n",
       "      <td>TOA21C06</td>\n",
       "      <td>Passenger stations</td>\n",
       "      <td>2019</td>\n",
       "      <td>Number</td>\n",
       "      <td>144.0</td>\n",
       "    </tr>\n",
       "    <tr>\n",
       "      <th>11</th>\n",
       "      <td>TOA21C06</td>\n",
       "      <td>Passenger stations</td>\n",
       "      <td>2020</td>\n",
       "      <td>Number</td>\n",
       "      <td>144.0</td>\n",
       "    </tr>\n",
       "    <tr>\n",
       "      <th>12</th>\n",
       "      <td>TOA21C06</td>\n",
       "      <td>Passenger stations</td>\n",
       "      <td>2021</td>\n",
       "      <td>Number</td>\n",
       "      <td>145.0</td>\n",
       "    </tr>\n",
       "    <tr>\n",
       "      <th>13</th>\n",
       "      <td>TOA21C06</td>\n",
       "      <td>Passenger stations</td>\n",
       "      <td>2022</td>\n",
       "      <td>Number</td>\n",
       "      <td>145.0</td>\n",
       "    </tr>\n",
       "  </tbody>\n",
       "</table>\n",
       "</div>"
      ],
      "text/plain": [
       "   STATISTIC             Statistic Label  Year     UNIT   VALUE\n",
       "0   TOA21C02  Length of lines, passenger  2016  line km  1679.0\n",
       "1   TOA21C02  Length of lines, passenger  2017  line km  1679.0\n",
       "2   TOA21C02  Length of lines, passenger  2018  line km  1679.0\n",
       "3   TOA21C02  Length of lines, passenger  2019  line km  1679.0\n",
       "4   TOA21C02  Length of lines, passenger  2020  line km  1679.0\n",
       "5   TOA21C02  Length of lines, passenger  2021  line km  1679.0\n",
       "6   TOA21C02  Length of lines, passenger  2022  line km  1679.0\n",
       "7   TOA21C06          Passenger stations  2016   Number   144.0\n",
       "8   TOA21C06          Passenger stations  2017   Number   144.0\n",
       "9   TOA21C06          Passenger stations  2018   Number   144.0\n",
       "10  TOA21C06          Passenger stations  2019   Number   144.0\n",
       "11  TOA21C06          Passenger stations  2020   Number   144.0\n",
       "12  TOA21C06          Passenger stations  2021   Number   145.0\n",
       "13  TOA21C06          Passenger stations  2022   Number   145.0"
      ]
     },
     "execution_count": 26,
     "metadata": {},
     "output_type": "execute_result"
    }
   ],
   "source": [
    "df2 = df2[df2['Statistic Label'].isin(['Length of lines, passenger', 'Passenger stations'])].reset_index(drop=True)\n",
    "df2"
   ]
  },
  {
   "cell_type": "markdown",
   "id": "3b21046a",
   "metadata": {},
   "source": [
    "Notes on the above: From taking a closer look, I note there was minimal changes in the infrastructure from the period 2016 to 2022, so there's little point in looking at the relationship as there will be a very weak correlation. Therefore, I decided to stop this analysis here."
   ]
  },
  {
   "cell_type": "markdown",
   "id": "5b79bff6",
   "metadata": {},
   "source": [
    "<summary style=\"color:blue;\">\n",
    "    \n",
    "# 5. Comparison of Rail Transport in Ireland with other EU countries\n",
    "    \n",
    "</summary>\n",
    "\n",
    "OECD... "
   ]
  },
  {
   "cell_type": "code",
   "execution_count": null,
   "id": "0119faf9",
   "metadata": {},
   "outputs": [],
   "source": []
  },
  {
   "cell_type": "code",
   "execution_count": null,
   "id": "78d1b962",
   "metadata": {},
   "outputs": [],
   "source": []
  },
  {
   "cell_type": "code",
   "execution_count": null,
   "id": "a6d85eda",
   "metadata": {},
   "outputs": [],
   "source": []
  },
  {
   "cell_type": "code",
   "execution_count": null,
   "id": "ec050352",
   "metadata": {},
   "outputs": [],
   "source": []
  },
  {
   "cell_type": "code",
   "execution_count": null,
   "id": "bb421b9f",
   "metadata": {},
   "outputs": [],
   "source": []
  }
 ],
 "metadata": {
  "kernelspec": {
   "display_name": "Python 3 (ipykernel)",
   "language": "python",
   "name": "python3"
  },
  "language_info": {
   "codemirror_mode": {
    "name": "ipython",
    "version": 3
   },
   "file_extension": ".py",
   "mimetype": "text/x-python",
   "name": "python",
   "nbconvert_exporter": "python",
   "pygments_lexer": "ipython3",
   "version": "3.11.4"
  }
 },
 "nbformat": 4,
 "nbformat_minor": 5
}
