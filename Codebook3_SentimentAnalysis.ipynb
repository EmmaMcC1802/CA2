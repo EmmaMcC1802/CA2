{
 "cells": [
  {
   "cell_type": "markdown",
   "id": "b11057ea",
   "metadata": {},
   "source": [
    "# Assignment 2 - Codebook 3\n",
    "Emma McCready\\\n",
    "sba23001\n",
    "\n",
    "---\n",
    "\n",
    "# Sentiment Analysis of Ireland's Transport Data\n",
    "\n",
    "For this analysis, I used `Octoparse` `(Version 8.6.7)` to scrape two webpages to garner reviews to assess public opinion of Ireland's national rail service, **Iarnród Éireann (AKA Irish Rail)**. Octoparse is a programme used for high-speed web scraping with no coding required, and has customisable workflows and a helper wizard tool to assist in the task. This option was chosen for the sake of time efficiency. The webpages scraped were the following:\n",
    "* [TripAdvisor](https://www.tripadvisor.ie/Attraction_Review-g186605-d7940415-Reviews-Irish_Rail-Dublin_County_Dublin.html)\n",
    "* [TrustPilot](https://ie.trustpilot.com/review/irishrail.ie)\n",
    "\n",
    "These websites were chosen as some social media websites (e.g. X, Meta) block web-scraping, either by making it very difficult or by hiding it behind a paywall. The scraped data were downloaded as .csv files. Another advantage of using Octoparse is that it automatically removes duplicates. The downside to Octoparse is that it's a paid service. The data used in this sentiment analysis was collected using the free trial.\n",
    "\n"
   ]
  },
  {
   "cell_type": "code",
   "execution_count": 1,
   "id": "37a4736c",
   "metadata": {},
   "outputs": [],
   "source": [
    "import pandas as pd\n",
    "import matplotlib.pyplot as plt\n",
    "import seaborn as sns\n",
    "import nltk\n",
    "import re\n",
    "import warnings\n",
    "warnings.filterwarnings('ignore') \n",
    "\n",
    "##### Sentiment Analysis Libraries, loading everything in here to keep code tidy\n",
    "from nltk.corpus import stopwords\n",
    "#nltk.download('stopwords')\n",
    "from nltk.tokenize import word_tokenize\n",
    "#nltk.download('punkt')\n",
    "import string\n",
    "from nltk.stem import PorterStemmer\n",
    "from nltk.sentiment import SentimentIntensityAnalyzer\n",
    "#nltk.download('vader_lexicon')\n"
   ]
  },
  {
   "cell_type": "markdown",
   "id": "d81f07d5",
   "metadata": {},
   "source": [
    "# 1. TripAdvisor\n",
    "### 1.1 Data Pre-Processing\n",
    "\n",
    "I first have to prepare the data, so first I'll just get some information about the dataset. As I didn't follow a template when usng the Octoparse software for this task, the dataset is in an unusual format with unusual names."
   ]
  },
  {
   "cell_type": "code",
   "execution_count": 2,
   "id": "7a8a11de",
   "metadata": {},
   "outputs": [
    {
     "data": {
      "text/html": [
       "<div>\n",
       "<style scoped>\n",
       "    .dataframe tbody tr th:only-of-type {\n",
       "        vertical-align: middle;\n",
       "    }\n",
       "\n",
       "    .dataframe tbody tr th {\n",
       "        vertical-align: top;\n",
       "    }\n",
       "\n",
       "    .dataframe thead th {\n",
       "        text-align: right;\n",
       "    }\n",
       "</style>\n",
       "<table border=\"1\" class=\"dataframe\">\n",
       "  <thead>\n",
       "    <tr style=\"text-align: right;\">\n",
       "      <th></th>\n",
       "      <th>Title</th>\n",
       "      <th>Title_URL</th>\n",
       "      <th>Image</th>\n",
       "      <th>bigqs_URL</th>\n",
       "      <th>bigqs</th>\n",
       "      <th>bigqs1</th>\n",
       "      <th>iugum</th>\n",
       "      <th>bigqs2</th>\n",
       "      <th>rpecd</th>\n",
       "      <th>jguwg_spancontainsclass_ycete</th>\n",
       "      <th>bigqs3</th>\n",
       "      <th>bigqs4</th>\n",
       "    </tr>\n",
       "  </thead>\n",
       "  <tbody>\n",
       "    <tr>\n",
       "      <th>0</th>\n",
       "      <td>NaN</td>\n",
       "      <td>NaN</td>\n",
       "      <td>NaN</td>\n",
       "      <td>NaN</td>\n",
       "      <td>NaN</td>\n",
       "      <td>Moate, Ireland</td>\n",
       "      <td>8 contributions</td>\n",
       "      <td>0.0</td>\n",
       "      <td>Nov 2023 • Solo</td>\n",
       "      <td>Have to say Ritchie who works for ye on platfo...</td>\n",
       "      <td>Written 4 January 2024</td>\n",
       "      <td>This review is the subjective opinion of a Tri...</td>\n",
       "    </tr>\n",
       "    <tr>\n",
       "      <th>1</th>\n",
       "      <td>NaN</td>\n",
       "      <td>NaN</td>\n",
       "      <td>NaN</td>\n",
       "      <td>NaN</td>\n",
       "      <td>NaN</td>\n",
       "      <td>1 contribution</td>\n",
       "      <td>NaN</td>\n",
       "      <td>0.0</td>\n",
       "      <td>Dec 2023 • Couples</td>\n",
       "      <td>ABSOLUTEY AWFUL\\n\\nTook the train a train from...</td>\n",
       "      <td>Written 28 December 2023</td>\n",
       "      <td>This review is the subjective opinion of a Tri...</td>\n",
       "    </tr>\n",
       "    <tr>\n",
       "      <th>2</th>\n",
       "      <td>NaN</td>\n",
       "      <td>NaN</td>\n",
       "      <td>NaN</td>\n",
       "      <td>NaN</td>\n",
       "      <td>NaN</td>\n",
       "      <td>London, UK</td>\n",
       "      <td>10 contributions</td>\n",
       "      <td>0.0</td>\n",
       "      <td>Dec 2023 • Solo</td>\n",
       "      <td>Station locked at 1pm, no toilets available. T...</td>\n",
       "      <td>Written 20 December 2023</td>\n",
       "      <td>This review is the subjective opinion of a Tri...</td>\n",
       "    </tr>\n",
       "    <tr>\n",
       "      <th>3</th>\n",
       "      <td>NaN</td>\n",
       "      <td>NaN</td>\n",
       "      <td>NaN</td>\n",
       "      <td>NaN</td>\n",
       "      <td>NaN</td>\n",
       "      <td>3 contributions</td>\n",
       "      <td>NaN</td>\n",
       "      <td>0.0</td>\n",
       "      <td>Dec 2023 • Solo</td>\n",
       "      <td>Had a nice window seat going down enjoyed my t...</td>\n",
       "      <td>Written 19 December 2023</td>\n",
       "      <td>This review is the subjective opinion of a Tri...</td>\n",
       "    </tr>\n",
       "    <tr>\n",
       "      <th>4</th>\n",
       "      <td>NaN</td>\n",
       "      <td>NaN</td>\n",
       "      <td>NaN</td>\n",
       "      <td>NaN</td>\n",
       "      <td>NaN</td>\n",
       "      <td>Dublin, Ireland</td>\n",
       "      <td>10 contributions</td>\n",
       "      <td>0.0</td>\n",
       "      <td>Nov 2023 • Business</td>\n",
       "      <td>The seat reservation system is incredibly frus...</td>\n",
       "      <td>Written 30 November 2023</td>\n",
       "      <td>This review is the subjective opinion of a Tri...</td>\n",
       "    </tr>\n",
       "  </tbody>\n",
       "</table>\n",
       "</div>"
      ],
      "text/plain": [
       "   Title  Title_URL  Image  bigqs_URL  bigqs           bigqs1  \\\n",
       "0    NaN        NaN    NaN        NaN    NaN   Moate, Ireland   \n",
       "1    NaN        NaN    NaN        NaN    NaN   1 contribution   \n",
       "2    NaN        NaN    NaN        NaN    NaN       London, UK   \n",
       "3    NaN        NaN    NaN        NaN    NaN  3 contributions   \n",
       "4    NaN        NaN    NaN        NaN    NaN  Dublin, Ireland   \n",
       "\n",
       "              iugum  bigqs2                rpecd  \\\n",
       "0   8 contributions     0.0      Nov 2023 • Solo   \n",
       "1               NaN     0.0   Dec 2023 • Couples   \n",
       "2  10 contributions     0.0      Dec 2023 • Solo   \n",
       "3               NaN     0.0      Dec 2023 • Solo   \n",
       "4  10 contributions     0.0  Nov 2023 • Business   \n",
       "\n",
       "                       jguwg_spancontainsclass_ycete  \\\n",
       "0  Have to say Ritchie who works for ye on platfo...   \n",
       "1  ABSOLUTEY AWFUL\\n\\nTook the train a train from...   \n",
       "2  Station locked at 1pm, no toilets available. T...   \n",
       "3  Had a nice window seat going down enjoyed my t...   \n",
       "4  The seat reservation system is incredibly frus...   \n",
       "\n",
       "                     bigqs3                                             bigqs4  \n",
       "0    Written 4 January 2024  This review is the subjective opinion of a Tri...  \n",
       "1  Written 28 December 2023  This review is the subjective opinion of a Tri...  \n",
       "2  Written 20 December 2023  This review is the subjective opinion of a Tri...  \n",
       "3  Written 19 December 2023  This review is the subjective opinion of a Tri...  \n",
       "4  Written 30 November 2023  This review is the subjective opinion of a Tri...  "
      ]
     },
     "execution_count": 2,
     "metadata": {},
     "output_type": "execute_result"
    }
   ],
   "source": [
    "tripadvisor = pd.read_csv(\"IrishRailReviews_TripAdvisor.csv\")\n",
    "tripadvisor.head()"
   ]
  },
  {
   "cell_type": "code",
   "execution_count": 3,
   "id": "77072885",
   "metadata": {},
   "outputs": [
    {
     "name": "stdout",
     "output_type": "stream",
     "text": [
      "<class 'pandas.core.frame.DataFrame'>\n",
      "RangeIndex: 412 entries, 0 to 411\n",
      "Data columns (total 12 columns):\n",
      " #   Column                         Non-Null Count  Dtype  \n",
      "---  ------                         --------------  -----  \n",
      " 0   Title                          0 non-null      float64\n",
      " 1   Title_URL                      0 non-null      float64\n",
      " 2   Image                          0 non-null      float64\n",
      " 3   bigqs_URL                      0 non-null      float64\n",
      " 4   bigqs                          0 non-null      float64\n",
      " 5   bigqs1                         411 non-null    object \n",
      " 6   iugum                          297 non-null    object \n",
      " 7   bigqs2                         411 non-null    float64\n",
      " 8   rpecd                          411 non-null    object \n",
      " 9   jguwg_spancontainsclass_ycete  411 non-null    object \n",
      " 10  bigqs3                         411 non-null    object \n",
      " 11  bigqs4                         411 non-null    object \n",
      "dtypes: float64(6), object(6)\n",
      "memory usage: 38.8+ KB\n"
     ]
    }
   ],
   "source": [
    "tripadvisor.info()"
   ]
  },
  {
   "cell_type": "markdown",
   "id": "cd3fcc96",
   "metadata": {},
   "source": [
    "The data contains 412 observations and 12 column. The first 5 cols are empty so they can be dropped. We're not interested in person data or dates, only the review itself, so I will filter the dataset to include just the column with the review (`jguwg_spancontainsclass_ycete`). I'll also rename this column because it's a very nonspecific. I note there's 1 observation with missing data so I'll drop that also after I filter the data using a boolean mask."
   ]
  },
  {
   "cell_type": "code",
   "execution_count": 4,
   "id": "dcf30530",
   "metadata": {},
   "outputs": [],
   "source": [
    "tripadvisor = tripadvisor.rename(columns = {'jguwg_spancontainsclass_ycete':'review'}) # easier to call\n",
    "ta = tripadvisor[['review']] # to isolate reviews. ta is easier to call than tripadvisor\n",
    "ta = ta.dropna() # getting rid of missing value"
   ]
  },
  {
   "cell_type": "code",
   "execution_count": 5,
   "id": "26d553b4",
   "metadata": {
    "scrolled": true
   },
   "outputs": [
    {
     "data": {
      "text/html": [
       "<div>\n",
       "<style scoped>\n",
       "    .dataframe tbody tr th:only-of-type {\n",
       "        vertical-align: middle;\n",
       "    }\n",
       "\n",
       "    .dataframe tbody tr th {\n",
       "        vertical-align: top;\n",
       "    }\n",
       "\n",
       "    .dataframe thead th {\n",
       "        text-align: right;\n",
       "    }\n",
       "</style>\n",
       "<table border=\"1\" class=\"dataframe\">\n",
       "  <thead>\n",
       "    <tr style=\"text-align: right;\">\n",
       "      <th></th>\n",
       "      <th>review</th>\n",
       "    </tr>\n",
       "  </thead>\n",
       "  <tbody>\n",
       "    <tr>\n",
       "      <th>count</th>\n",
       "      <td>411</td>\n",
       "    </tr>\n",
       "    <tr>\n",
       "      <th>unique</th>\n",
       "      <td>411</td>\n",
       "    </tr>\n",
       "    <tr>\n",
       "      <th>top</th>\n",
       "      <td>Have to say Ritchie who works for ye on platfo...</td>\n",
       "    </tr>\n",
       "    <tr>\n",
       "      <th>freq</th>\n",
       "      <td>1</td>\n",
       "    </tr>\n",
       "  </tbody>\n",
       "</table>\n",
       "</div>"
      ],
      "text/plain": [
       "                                                   review\n",
       "count                                                 411\n",
       "unique                                                411\n",
       "top     Have to say Ritchie who works for ye on platfo...\n",
       "freq                                                    1"
      ]
     },
     "execution_count": 5,
     "metadata": {},
     "output_type": "execute_result"
    }
   ],
   "source": [
    "ta.describe()"
   ]
  },
  {
   "cell_type": "markdown",
   "id": "c1d34bee",
   "metadata": {},
   "source": [
    "Now I can see there's 411 reviews, and each of them are unique, so there are definitely no duplicates.  \n",
    "I wanted to see what the reviews might look like and if there's any special text to be removed. I note there's some \\n (new line character) which will have to be removed.  \n",
    "There also seems to be emojis. I don't know what to do with them, so I'll start by keeping them there. If I feel they are unnecessary noise, I can use the emoji library to remove them.\n",
    "Similarly, with punctuation, I'll assess the performance of the model first before I remove punctuation\n",
    "  \n",
    "  \n",
    "I will now have to pre-process the data. I'll:\n",
    "* remove new line character\n",
    "* make it all lower case\n",
    "    * ensures uniformity in text\n",
    "* after making lower case, I'll tokenise (necessary step for VADER analysis - see below)     \n",
    "* remove punctuation - !\"#$%&\\'()*+,-./:;<=>?@[\\\\]^_`{|}~\n",
    "    * reduces noise\n",
    "* use stopwords (from the nltk.corpus library) \n",
    "* stem the data to chop off word suffixes using PorterStemmer to normalise the text"
   ]
  },
  {
   "cell_type": "code",
   "execution_count": 6,
   "id": "8cd8eb40",
   "metadata": {},
   "outputs": [],
   "source": [
    "column_list = ta['review'].tolist()\n",
    "#column_list"
   ]
  },
  {
   "cell_type": "code",
   "execution_count": 7,
   "id": "3539507d",
   "metadata": {},
   "outputs": [],
   "source": [
    "stop_words = stopwords.words('english') \n",
    "punct = string.punctuation\n",
    "stemmer = PorterStemmer()\n",
    "\n",
    "cleaned_data = []\n",
    "\n",
    "for i in range(len(ta)):\n",
    "    review = re.sub('\\n', ' ', ta.iloc[i].item())  # Remove \\n\n",
    "    review = review.lower()  \n",
    "    review = word_tokenize(review)  # splitting into words\n",
    "    review = [stemmer.stem(word) for word in review if (word not in stop_words) and (word not in punct)]  # Stemming and stopword removal\n",
    "    review = ' '.join(review)\n",
    "    cleaned_data.append(review)\n",
    "    \n",
    "\n",
    "cleaned_df = pd.DataFrame(cleaned_data, columns=['reviews']) # encountered issues during analysis so converted it to a df\n",
    "#print(cleaned_data) # if interested in seeing the pre-processed test"
   ]
  },
  {
   "cell_type": "markdown",
   "id": "2c6368ca",
   "metadata": {},
   "source": [
    "### 1.2 Sentiment Analysis using VADER\n",
    "\n",
    "My next issue is that the data has no assiciated sentiment labels, which is needed for a sentiment analysis. To overcome this, I'll use a pre-trained model. VADER from NLTK is a simple and effective tool specifically designed for sentiment analysis. \n",
    "\n",
    "Ref:\n",
    "[Medium Article: VADER for Sentiment Analysis](https://medium.com/@suntarekar/vader-for-sentiment-analysis-a29f3f1dbcad#:~:text=Sentiment%20Analysis%20with%20VADER%3A%20Moving,words%20without%20considering%20their%20relationships.)\n",
    "* note this article uses the tqdm module to track progress of the analysis but I didn't deem this necessary as my dataset is relatively short (~400 obs)\n"
   ]
  },
  {
   "cell_type": "code",
   "execution_count": 8,
   "id": "7baf8823",
   "metadata": {},
   "outputs": [
    {
     "name": "stdout",
     "output_type": "stream",
     "text": [
      "Index(['i', 'neg', 'neu', 'pos', 'compound', 'reviews'], dtype='object')\n"
     ]
    }
   ],
   "source": [
    "sia = SentimentIntensityAnalyzer()\n",
    "\n",
    "result = {}\n",
    "\n",
    "for i, row in cleaned_df.iterrows():\n",
    "    text = row['reviews']\n",
    "    myid = i\n",
    "    result[myid] = sia.polarity_scores(text) # scores polarity\n",
    "\n",
    "\n",
    "vaders = pd.DataFrame(result).T.reset_index().rename(columns={'index': 'i'})\n",
    "\n",
    "vaders = vaders.merge(cleaned_df, how='left', left_index=True, right_index=True) # merging scores with original data\n",
    "\n",
    "print(vaders.columns)"
   ]
  },
  {
   "cell_type": "code",
   "execution_count": 9,
   "id": "37d20e27",
   "metadata": {},
   "outputs": [
    {
     "data": {
      "text/html": [
       "<div>\n",
       "<style scoped>\n",
       "    .dataframe tbody tr th:only-of-type {\n",
       "        vertical-align: middle;\n",
       "    }\n",
       "\n",
       "    .dataframe tbody tr th {\n",
       "        vertical-align: top;\n",
       "    }\n",
       "\n",
       "    .dataframe thead th {\n",
       "        text-align: right;\n",
       "    }\n",
       "</style>\n",
       "<table border=\"1\" class=\"dataframe\">\n",
       "  <thead>\n",
       "    <tr style=\"text-align: right;\">\n",
       "      <th></th>\n",
       "      <th>i</th>\n",
       "      <th>neg</th>\n",
       "      <th>neu</th>\n",
       "      <th>pos</th>\n",
       "      <th>compound</th>\n",
       "      <th>reviews</th>\n",
       "    </tr>\n",
       "  </thead>\n",
       "  <tbody>\n",
       "    <tr>\n",
       "      <th>0</th>\n",
       "      <td>0</td>\n",
       "      <td>0.090</td>\n",
       "      <td>0.629</td>\n",
       "      <td>0.282</td>\n",
       "      <td>0.8779</td>\n",
       "      <td>say ritchi work ye platform go train novemb mi...</td>\n",
       "    </tr>\n",
       "    <tr>\n",
       "      <th>1</th>\n",
       "      <td>1</td>\n",
       "      <td>0.099</td>\n",
       "      <td>0.872</td>\n",
       "      <td>0.029</td>\n",
       "      <td>-0.5719</td>\n",
       "      <td>absolutey aw took train train portlaois got to...</td>\n",
       "    </tr>\n",
       "    <tr>\n",
       "      <th>2</th>\n",
       "      <td>2</td>\n",
       "      <td>0.000</td>\n",
       "      <td>0.782</td>\n",
       "      <td>0.218</td>\n",
       "      <td>0.7964</td>\n",
       "      <td>station lock 1pm toilet avail app say train ti...</td>\n",
       "    </tr>\n",
       "    <tr>\n",
       "      <th>3</th>\n",
       "      <td>3</td>\n",
       "      <td>0.040</td>\n",
       "      <td>0.669</td>\n",
       "      <td>0.291</td>\n",
       "      <td>0.9477</td>\n",
       "      <td>nice window seat go enjoy trip newri anyway co...</td>\n",
       "    </tr>\n",
       "    <tr>\n",
       "      <th>4</th>\n",
       "      <td>4</td>\n",
       "      <td>0.076</td>\n",
       "      <td>0.848</td>\n",
       "      <td>0.076</td>\n",
       "      <td>0.0000</td>\n",
       "      <td>seat reserv system incred frustrat – consist f...</td>\n",
       "    </tr>\n",
       "    <tr>\n",
       "      <th>...</th>\n",
       "      <td>...</td>\n",
       "      <td>...</td>\n",
       "      <td>...</td>\n",
       "      <td>...</td>\n",
       "      <td>...</td>\n",
       "      <td>...</td>\n",
       "    </tr>\n",
       "    <tr>\n",
       "      <th>406</th>\n",
       "      <td>406</td>\n",
       "      <td>0.000</td>\n",
       "      <td>1.000</td>\n",
       "      <td>0.000</td>\n",
       "      <td>0.0000</td>\n",
       "      <td>'s reason passeng wait flood platform way trai...</td>\n",
       "    </tr>\n",
       "    <tr>\n",
       "      <th>407</th>\n",
       "      <td>407</td>\n",
       "      <td>0.017</td>\n",
       "      <td>0.854</td>\n",
       "      <td>0.129</td>\n",
       "      <td>0.9524</td>\n",
       "      <td>read mani review suggest regard car rental nee...</td>\n",
       "    </tr>\n",
       "    <tr>\n",
       "      <th>408</th>\n",
       "      <td>408</td>\n",
       "      <td>0.000</td>\n",
       "      <td>0.577</td>\n",
       "      <td>0.423</td>\n",
       "      <td>0.8750</td>\n",
       "      <td>realli impress return trip galway irish rail c...</td>\n",
       "    </tr>\n",
       "    <tr>\n",
       "      <th>409</th>\n",
       "      <td>409</td>\n",
       "      <td>0.163</td>\n",
       "      <td>0.837</td>\n",
       "      <td>0.000</td>\n",
       "      <td>-0.8834</td>\n",
       "      <td>someon explain irish rail offer option phone l...</td>\n",
       "    </tr>\n",
       "    <tr>\n",
       "      <th>410</th>\n",
       "      <td>410</td>\n",
       "      <td>0.052</td>\n",
       "      <td>0.892</td>\n",
       "      <td>0.056</td>\n",
       "      <td>0.0258</td>\n",
       "      <td>passeng 18-15 heuston claremorri train friday ...</td>\n",
       "    </tr>\n",
       "  </tbody>\n",
       "</table>\n",
       "<p>411 rows × 6 columns</p>\n",
       "</div>"
      ],
      "text/plain": [
       "       i    neg    neu    pos  compound  \\\n",
       "0      0  0.090  0.629  0.282    0.8779   \n",
       "1      1  0.099  0.872  0.029   -0.5719   \n",
       "2      2  0.000  0.782  0.218    0.7964   \n",
       "3      3  0.040  0.669  0.291    0.9477   \n",
       "4      4  0.076  0.848  0.076    0.0000   \n",
       "..   ...    ...    ...    ...       ...   \n",
       "406  406  0.000  1.000  0.000    0.0000   \n",
       "407  407  0.017  0.854  0.129    0.9524   \n",
       "408  408  0.000  0.577  0.423    0.8750   \n",
       "409  409  0.163  0.837  0.000   -0.8834   \n",
       "410  410  0.052  0.892  0.056    0.0258   \n",
       "\n",
       "                                               reviews  \n",
       "0    say ritchi work ye platform go train novemb mi...  \n",
       "1    absolutey aw took train train portlaois got to...  \n",
       "2    station lock 1pm toilet avail app say train ti...  \n",
       "3    nice window seat go enjoy trip newri anyway co...  \n",
       "4    seat reserv system incred frustrat – consist f...  \n",
       "..                                                 ...  \n",
       "406  's reason passeng wait flood platform way trai...  \n",
       "407  read mani review suggest regard car rental nee...  \n",
       "408  realli impress return trip galway irish rail c...  \n",
       "409  someon explain irish rail offer option phone l...  \n",
       "410  passeng 18-15 heuston claremorri train friday ...  \n",
       "\n",
       "[411 rows x 6 columns]"
      ]
     },
     "execution_count": 9,
     "metadata": {},
     "output_type": "execute_result"
    }
   ],
   "source": [
    "vaders # to see the scores"
   ]
  },
  {
   "cell_type": "markdown",
   "id": "1436f10a",
   "metadata": {},
   "source": [
    "### 1.3 Visualising the sentiment data\n",
    "\n",
    "I'll visualise the sentiment scores by plotting three bar charts: positive, neutral, and negative sentiments. I defined a function to categorise the scores to make the code a bit easier to read. Then I applied it to the compound sentiment value in the vaders dataset."
   ]
  },
  {
   "cell_type": "code",
   "execution_count": 10,
   "id": "37e24e98",
   "metadata": {},
   "outputs": [
    {
     "data": {
      "image/png": "[encoded data removed]",
      "text/plain": [
       "<Figure size 640x480 with 1 Axes>"
      ]
     },
     "metadata": {},
     "output_type": "display_data"
    }
   ],
   "source": [
    "def categorise_sentiment(compound_score):\n",
    "    if compound_score >= 0.05:\n",
    "        return 'Positive'\n",
    "    elif compound_score <= -0.05:\n",
    "        return 'Negative'\n",
    "    else:\n",
    "        return 'Neutral'\n",
    "\n",
    "vaders['Sentiment'] = vaders['compound'].apply(categorise_sentiment)\n",
    "\n",
    "sentiment_counts = vaders['Sentiment'].value_counts()\n",
    "\n",
    "sns.barplot(x=sentiment_counts.index, y=sentiment_counts.values)\n",
    "plt.title('Sentiment Analysis')\n",
    "plt.xlabel('Sentiment')\n",
    "plt.ylabel('Count')\n",
    "plt.show()"
   ]
  },
  {
   "cell_type": "code",
   "execution_count": 11,
   "id": "3e0f3809",
   "metadata": {
    "scrolled": true
   },
   "outputs": [
    {
     "data": {
      "text/plain": [
       "Sentiment\n",
       "Positive    74.209246\n",
       "Negative    20.437956\n",
       "Neutral      5.352798\n",
       "Name: count, dtype: float64"
      ]
     },
     "execution_count": 11,
     "metadata": {},
     "output_type": "execute_result"
    }
   ],
   "source": [
    "total_entries = len(vaders)\n",
    "sentiment_percentages = sentiment_counts / total_entries * 100 # to calculate % each sentiment accounts for\n",
    "sentiment_percentages"
   ]
  },
  {
   "cell_type": "markdown",
   "id": "cfa8feb9",
   "metadata": {},
   "source": [
    "# 1.4 Conclusion\n",
    "\n",
    "Using a visualisation, I can see the spread of the sentiment, with most sentiment being positive.   \n",
    "From running a sentiment analysis on the text of the reviews, I got a 74% positive sentiment rate, which isn't too far off 3/5. Negative sentiments were predominant in 20.4% of the reviews.  \n",
    "On the TripAdvisor website, Irish rail is rated 3/5 stars. This is near 74% positivity, but I can't evaluate the performance of the model without having the actual ratings of each review, which unfortunately wasn't scraped.\n",
    "\n",
    "--- \n",
    "\n",
    "# 2. TrustPilot\n",
    "\n",
    "I decided to run another web scrape, this time by scraping reviews from TrustPilot. These will have associated scores. This is a smaller dataset with only 55 reviews. This means I can evaluate the model\n",
    "\n",
    "I'll clean and preprocess it in the same way as above.\n",
    "\n",
    "### 2.1 Data Pre-Processing"
   ]
  },
  {
   "cell_type": "code",
   "execution_count": 12,
   "id": "9f038153",
   "metadata": {},
   "outputs": [],
   "source": [
    "trustpilot = pd.read_csv(\"IrishRailReviews_TrustPilot.csv\")\n",
    "#trustpilot.info() # no missing values\n",
    "#trustpilot.head()"
   ]
  },
  {
   "cell_type": "code",
   "execution_count": 13,
   "id": "5d92d955",
   "metadata": {},
   "outputs": [],
   "source": [
    "tp = trustpilot[['Review_body']] # to isolate review text\n",
    "\n",
    "stop_words2 = stopwords.words('english') #had to change as it kept giving me data from first sentiment analysis\n",
    "punct2 = string.punctuation\n",
    "stemmer2 = PorterStemmer()\n",
    "\n",
    "tp_cleaned_data = []\n",
    "\n",
    "for i in range(len(tp)):\n",
    "    review2 = re.sub('\\n', ' ', tp.iloc[i]['Review_body'])  \n",
    "    review2 = review2.lower()  \n",
    "    review_tokens2 = word_tokenize(review2)  \n",
    "    cleaned_review2 = [stemmer2.stem(word) for word in review_tokens2 if (word not in stop_words2) and (word not in punct2)] \n",
    "    cleaned_review2 = ' '.join(cleaned_review2)\n",
    "    tp_cleaned_data.append(cleaned_review2)\n",
    "\n",
    "tp_cleaned_df = pd.DataFrame(tp_cleaned_data, columns=['Review_body'])\n",
    "#tp_cleaned_df # to view if interested"
   ]
  },
  {
   "cell_type": "markdown",
   "id": "50261f0b",
   "metadata": {},
   "source": [
    "### 2.2 Sentiment Analysis using VADER"
   ]
  },
  {
   "cell_type": "code",
   "execution_count": 14,
   "id": "d36c8ef9",
   "metadata": {},
   "outputs": [],
   "source": [
    "sia2 = SentimentIntensityAnalyzer()\n",
    "\n",
    "result2 = {}\n",
    "\n",
    "for i, row in tp_cleaned_df.iterrows():\n",
    "    text = row['Review_body']\n",
    "    myid = i\n",
    "    result2[myid] = sia2.polarity_scores(text) # scores polarity\n",
    "\n",
    "vaders2 = pd.DataFrame(result2).T.reset_index().rename(columns={'index': 'i'})\n",
    "\n",
    "vaders2 = vaders2.merge(trustpilot, how='left', left_index=True, right_index=True) # merging scores with original data"
   ]
  },
  {
   "cell_type": "markdown",
   "id": "6e51857e",
   "metadata": {},
   "source": [
    "### 2.3 Visualisation\n",
    "\n",
    "I note from viewing the head of the dataset in section 2.1, that ratings are provided as \"_ out of 5 stars\". Therefore, I need to strip everything except the first digit, so that I can compare it to my VADER model's results. After plotting the second plot, the numbers weren't in ascending numerical order, so I added `.astype(int)` to the code to make the rating from the website numerical."
   ]
  },
  {
   "cell_type": "code",
   "execution_count": 15,
   "id": "29fcc990",
   "metadata": {},
   "outputs": [
    {
     "data": {
      "image/png": "[encoded data removed]",
      "text/plain": [
       "<Figure size 640x480 with 1 Axes>"
      ]
     },
     "metadata": {},
     "output_type": "display_data"
    },
    {
     "data": {
      "text/plain": [
       "Sentiment\n",
       "Positive    52.727273\n",
       "Negative    32.727273\n",
       "Neutral     14.545455\n",
       "Name: count, dtype: float64"
      ]
     },
     "execution_count": 15,
     "metadata": {},
     "output_type": "execute_result"
    }
   ],
   "source": [
    "vaders2['Rating'] = vaders2['Rating'].str.extract('(\\d)').astype(int)\n",
    "\n",
    "vaders2['Sentiment'] = vaders2['compound'].apply(categorise_sentiment) # function from section 1.3\n",
    "\n",
    "sentiment_counts2 = vaders2['Sentiment'].value_counts()\n",
    "sns.barplot(x=sentiment_counts2.index, y=sentiment_counts2.values)\n",
    "plt.title('Sentiment Analysis Spread')\n",
    "plt.xlabel('Sentiment')\n",
    "plt.ylabel('Count')\n",
    "plt.show()\n",
    "\n",
    "total_entries = len(vaders2)\n",
    "sentiment_percentages = sentiment_counts2 / total_entries * 100 # to calculate % each sentiment accounts for\n",
    "sentiment_percentages"
   ]
  },
  {
   "cell_type": "code",
   "execution_count": 16,
   "id": "9f5370e5",
   "metadata": {},
   "outputs": [
    {
     "data": {
      "image/png": "[encoded data removed]",
      "text/plain": [
       "<Figure size 1500x500 with 3 Axes>"
      ]
     },
     "metadata": {},
     "output_type": "display_data"
    }
   ],
   "source": [
    "fig, ax = plt.subplots(1, 3, figsize=(15, 5))\n",
    "sns.barplot(ax=ax[0], data=vaders2, ci=None, x='Rating', y='pos')\n",
    "ax[0].set_title('Positive')\n",
    "sns.barplot(ax=ax[1], data=vaders2, ci=None, x='Rating', y='neu')\n",
    "ax[1].set_title('Neutral')\n",
    "sns.barplot(ax=ax[2], data=vaders2, ci=None, x='Rating', y='neg')\n",
    "ax[2].set_title('Negative')\n",
    "plt.show()"
   ]
  },
  {
   "cell_type": "markdown",
   "id": "56f49a77",
   "metadata": {},
   "source": [
    "# 2.4 Conclusions from this sentiment analysis\n",
    "\n",
    "The first plot generated can be compared to the plot from Section 1.3, where they follow the same trend of mostly positive reviews, then negative, and then neutral. However, the percentage that these sentiments accounts for is very different:\n",
    "* Positive: Only 52.7% Positivity on TrustPilot, vs 74.2% on TripAdvisor\n",
    "* Negative: Negative reviews account for 32.7% of reviews on Trustpilot, vs 20.4% on TripAdvisor\n",
    "* Neutral: 14.5% on TrustPilot vs 5.3% on TripAdvisor.  \n",
    "\n",
    "However a lot more reviews were scraped from TripAdvisor, so that data is more reliable than TrustPilot.\n",
    "\n",
    "###### Evaluating my model:\n",
    "I can now use the bottom three plots generated to evaluate my VADER sentiment analysis.\n",
    "* *Positive Plot:*\n",
    "    * The reviews with the highest rating have the highest positivity score, as expected.\n",
    "* *Neutral Plot:*\n",
    "    * Reviews with ratings 2 and 4 have the highest neutral scores, also expected seeing as these are not extreme values (i.e. 1 would be an extreme rating because it is the most negative rating possible, and the opposite is true for 5)\n",
    "* *Negative Plot:*\n",
    "    * The reviews with the lowest rating have the highest negativity score, as expected.\n",
    "    \n",
    "From these plots, you can see a trend, there is a clear correlation between sentiment score and the rating.  \n",
    "However, this analysis is limited by the small size of the dataset (n=55)."
   ]
  }
 ],
 "metadata": {
  "kernelspec": {
   "display_name": "Python 3 (ipykernel)",
   "language": "python",
   "name": "python3"
  },
  "language_info": {
   "codemirror_mode": {
    "name": "ipython",
    "version": 3
   },
   "file_extension": ".py",
   "mimetype": "text/x-python",
   "name": "python",
   "nbconvert_exporter": "python",
   "pygments_lexer": "ipython3",
   "version": "3.11.5"
  }
 },
 "nbformat": 4,
 "nbformat_minor": 5
}
